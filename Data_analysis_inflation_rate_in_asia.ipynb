{
  "nbformat": 4,
  "nbformat_minor": 0,
  "metadata": {
    "colab": {
      "provenance": []
    },
    "kernelspec": {
      "name": "python3",
      "display_name": "Python 3"
    },
    "language_info": {
      "name": "python"
    }
  },
  "cells": [
    {
      "cell_type": "code",
      "source": [
        "import pandas as pd\n",
        "import numpy as np\n",
        "import warnings\n",
        "warnings.simplefilter(action='ignore', category=FutureWarning)"
      ],
      "metadata": {
        "id": "LJZiKnuK4Tco"
      },
      "execution_count": 4,
      "outputs": []
    },
    {
      "cell_type": "code",
      "source": [
        "#read data\n",
        "dset = pd.read_csv(\"/content/Data_Inflation.csv\",sep=\",\", encoding='latin-1')"
      ],
      "metadata": {
        "id": "b-GxDn9m4Yzh"
      },
      "execution_count": 5,
      "outputs": []
    },
    {
      "cell_type": "markdown",
      "source": [
        "**Data Analysis with pandas and numpy**"
      ],
      "metadata": {
        "id": "Tywc9cB4jOOz"
      }
    },
    {
      "cell_type": "code",
      "source": [
        "#View the data\n",
        "dset.head(10)"
      ],
      "metadata": {
        "colab": {
          "base_uri": "https://localhost:8080/",
          "height": 363
        },
        "id": "_mcaTpo3-MSI",
        "outputId": "2a809ef8-6fa3-4e62-e330-d4b38eb99581"
      },
      "execution_count": 6,
      "outputs": [
        {
          "output_type": "execute_result",
          "data": {
            "text/plain": [
              "                      RegionalMember           Year  Inflation  \\\n",
              "0                    Developing Asia           2018        2.7   \n",
              "1                    Developing Asia           2019        3.2   \n",
              "2                    Developing Asia           2020        3.3   \n",
              "3                    Developing Asia           2021        2.6   \n",
              "4                    Developing Asia           2022        4.4   \n",
              "5                    Developing Asia  2023 forecast        4.2   \n",
              "6                    Developing Asia  2024 forecast        3.3   \n",
              "7  Developing Asia excluding the PRC           2018        3.3   \n",
              "8  Developing Asia excluding the PRC           2019        3.5   \n",
              "9  Developing Asia excluding the PRC           2020        4.1   \n",
              "\n",
              "  Unit of Measurement  Subregion  Country Code  \n",
              "0                   %        NaN           NaN  \n",
              "1                   %        NaN           NaN  \n",
              "2                   %        NaN           NaN  \n",
              "3                   %        NaN           NaN  \n",
              "4                   %        NaN           NaN  \n",
              "5                   %        NaN           NaN  \n",
              "6                   %        NaN           NaN  \n",
              "7                   %        NaN           NaN  \n",
              "8                   %        NaN           NaN  \n",
              "9                   %        NaN           NaN  "
            ],
            "text/html": [
              "\n",
              "  <div id=\"df-d8489a7e-91ac-4046-bcc7-648963536f61\">\n",
              "    <div class=\"colab-df-container\">\n",
              "      <div>\n",
              "<style scoped>\n",
              "    .dataframe tbody tr th:only-of-type {\n",
              "        vertical-align: middle;\n",
              "    }\n",
              "\n",
              "    .dataframe tbody tr th {\n",
              "        vertical-align: top;\n",
              "    }\n",
              "\n",
              "    .dataframe thead th {\n",
              "        text-align: right;\n",
              "    }\n",
              "</style>\n",
              "<table border=\"1\" class=\"dataframe\">\n",
              "  <thead>\n",
              "    <tr style=\"text-align: right;\">\n",
              "      <th></th>\n",
              "      <th>RegionalMember</th>\n",
              "      <th>Year</th>\n",
              "      <th>Inflation</th>\n",
              "      <th>Unit of Measurement</th>\n",
              "      <th>Subregion</th>\n",
              "      <th>Country Code</th>\n",
              "    </tr>\n",
              "  </thead>\n",
              "  <tbody>\n",
              "    <tr>\n",
              "      <th>0</th>\n",
              "      <td>Developing Asia</td>\n",
              "      <td>2018</td>\n",
              "      <td>2.7</td>\n",
              "      <td>%</td>\n",
              "      <td>NaN</td>\n",
              "      <td>NaN</td>\n",
              "    </tr>\n",
              "    <tr>\n",
              "      <th>1</th>\n",
              "      <td>Developing Asia</td>\n",
              "      <td>2019</td>\n",
              "      <td>3.2</td>\n",
              "      <td>%</td>\n",
              "      <td>NaN</td>\n",
              "      <td>NaN</td>\n",
              "    </tr>\n",
              "    <tr>\n",
              "      <th>2</th>\n",
              "      <td>Developing Asia</td>\n",
              "      <td>2020</td>\n",
              "      <td>3.3</td>\n",
              "      <td>%</td>\n",
              "      <td>NaN</td>\n",
              "      <td>NaN</td>\n",
              "    </tr>\n",
              "    <tr>\n",
              "      <th>3</th>\n",
              "      <td>Developing Asia</td>\n",
              "      <td>2021</td>\n",
              "      <td>2.6</td>\n",
              "      <td>%</td>\n",
              "      <td>NaN</td>\n",
              "      <td>NaN</td>\n",
              "    </tr>\n",
              "    <tr>\n",
              "      <th>4</th>\n",
              "      <td>Developing Asia</td>\n",
              "      <td>2022</td>\n",
              "      <td>4.4</td>\n",
              "      <td>%</td>\n",
              "      <td>NaN</td>\n",
              "      <td>NaN</td>\n",
              "    </tr>\n",
              "    <tr>\n",
              "      <th>5</th>\n",
              "      <td>Developing Asia</td>\n",
              "      <td>2023 forecast</td>\n",
              "      <td>4.2</td>\n",
              "      <td>%</td>\n",
              "      <td>NaN</td>\n",
              "      <td>NaN</td>\n",
              "    </tr>\n",
              "    <tr>\n",
              "      <th>6</th>\n",
              "      <td>Developing Asia</td>\n",
              "      <td>2024 forecast</td>\n",
              "      <td>3.3</td>\n",
              "      <td>%</td>\n",
              "      <td>NaN</td>\n",
              "      <td>NaN</td>\n",
              "    </tr>\n",
              "    <tr>\n",
              "      <th>7</th>\n",
              "      <td>Developing Asia excluding the PRC</td>\n",
              "      <td>2018</td>\n",
              "      <td>3.3</td>\n",
              "      <td>%</td>\n",
              "      <td>NaN</td>\n",
              "      <td>NaN</td>\n",
              "    </tr>\n",
              "    <tr>\n",
              "      <th>8</th>\n",
              "      <td>Developing Asia excluding the PRC</td>\n",
              "      <td>2019</td>\n",
              "      <td>3.5</td>\n",
              "      <td>%</td>\n",
              "      <td>NaN</td>\n",
              "      <td>NaN</td>\n",
              "    </tr>\n",
              "    <tr>\n",
              "      <th>9</th>\n",
              "      <td>Developing Asia excluding the PRC</td>\n",
              "      <td>2020</td>\n",
              "      <td>4.1</td>\n",
              "      <td>%</td>\n",
              "      <td>NaN</td>\n",
              "      <td>NaN</td>\n",
              "    </tr>\n",
              "  </tbody>\n",
              "</table>\n",
              "</div>\n",
              "      <button class=\"colab-df-convert\" onclick=\"convertToInteractive('df-d8489a7e-91ac-4046-bcc7-648963536f61')\"\n",
              "              title=\"Convert this dataframe to an interactive table.\"\n",
              "              style=\"display:none;\">\n",
              "        \n",
              "  <svg xmlns=\"http://www.w3.org/2000/svg\" height=\"24px\"viewBox=\"0 0 24 24\"\n",
              "       width=\"24px\">\n",
              "    <path d=\"M0 0h24v24H0V0z\" fill=\"none\"/>\n",
              "    <path d=\"M18.56 5.44l.94 2.06.94-2.06 2.06-.94-2.06-.94-.94-2.06-.94 2.06-2.06.94zm-11 1L8.5 8.5l.94-2.06 2.06-.94-2.06-.94L8.5 2.5l-.94 2.06-2.06.94zm10 10l.94 2.06.94-2.06 2.06-.94-2.06-.94-.94-2.06-.94 2.06-2.06.94z\"/><path d=\"M17.41 7.96l-1.37-1.37c-.4-.4-.92-.59-1.43-.59-.52 0-1.04.2-1.43.59L10.3 9.45l-7.72 7.72c-.78.78-.78 2.05 0 2.83L4 21.41c.39.39.9.59 1.41.59.51 0 1.02-.2 1.41-.59l7.78-7.78 2.81-2.81c.8-.78.8-2.07 0-2.86zM5.41 20L4 18.59l7.72-7.72 1.47 1.35L5.41 20z\"/>\n",
              "  </svg>\n",
              "      </button>\n",
              "      \n",
              "  <style>\n",
              "    .colab-df-container {\n",
              "      display:flex;\n",
              "      flex-wrap:wrap;\n",
              "      gap: 12px;\n",
              "    }\n",
              "\n",
              "    .colab-df-convert {\n",
              "      background-color: #E8F0FE;\n",
              "      border: none;\n",
              "      border-radius: 50%;\n",
              "      cursor: pointer;\n",
              "      display: none;\n",
              "      fill: #1967D2;\n",
              "      height: 32px;\n",
              "      padding: 0 0 0 0;\n",
              "      width: 32px;\n",
              "    }\n",
              "\n",
              "    .colab-df-convert:hover {\n",
              "      background-color: #E2EBFA;\n",
              "      box-shadow: 0px 1px 2px rgba(60, 64, 67, 0.3), 0px 1px 3px 1px rgba(60, 64, 67, 0.15);\n",
              "      fill: #174EA6;\n",
              "    }\n",
              "\n",
              "    [theme=dark] .colab-df-convert {\n",
              "      background-color: #3B4455;\n",
              "      fill: #D2E3FC;\n",
              "    }\n",
              "\n",
              "    [theme=dark] .colab-df-convert:hover {\n",
              "      background-color: #434B5C;\n",
              "      box-shadow: 0px 1px 3px 1px rgba(0, 0, 0, 0.15);\n",
              "      filter: drop-shadow(0px 1px 2px rgba(0, 0, 0, 0.3));\n",
              "      fill: #FFFFFF;\n",
              "    }\n",
              "  </style>\n",
              "\n",
              "      <script>\n",
              "        const buttonEl =\n",
              "          document.querySelector('#df-d8489a7e-91ac-4046-bcc7-648963536f61 button.colab-df-convert');\n",
              "        buttonEl.style.display =\n",
              "          google.colab.kernel.accessAllowed ? 'block' : 'none';\n",
              "\n",
              "        async function convertToInteractive(key) {\n",
              "          const element = document.querySelector('#df-d8489a7e-91ac-4046-bcc7-648963536f61');\n",
              "          const dataTable =\n",
              "            await google.colab.kernel.invokeFunction('convertToInteractive',\n",
              "                                                     [key], {});\n",
              "          if (!dataTable) return;\n",
              "\n",
              "          const docLinkHtml = 'Like what you see? Visit the ' +\n",
              "            '<a target=\"_blank\" href=https://colab.research.google.com/notebooks/data_table.ipynb>data table notebook</a>'\n",
              "            + ' to learn more about interactive tables.';\n",
              "          element.innerHTML = '';\n",
              "          dataTable['output_type'] = 'display_data';\n",
              "          await google.colab.output.renderOutput(dataTable, element);\n",
              "          const docLink = document.createElement('div');\n",
              "          docLink.innerHTML = docLinkHtml;\n",
              "          element.appendChild(docLink);\n",
              "        }\n",
              "      </script>\n",
              "    </div>\n",
              "  </div>\n",
              "  "
            ]
          },
          "metadata": {},
          "execution_count": 6
        }
      ]
    },
    {
      "cell_type": "code",
      "source": [
        "dset.dtypes.value_counts()"
      ],
      "metadata": {
        "colab": {
          "base_uri": "https://localhost:8080/"
        },
        "id": "IrZ3EuKNfNEK",
        "outputId": "bb7df8d9-cb38-4191-e269-be9dbaaa2caa"
      },
      "execution_count": 7,
      "outputs": [
        {
          "output_type": "execute_result",
          "data": {
            "text/plain": [
              "object     5\n",
              "float64    1\n",
              "dtype: int64"
            ]
          },
          "metadata": {},
          "execution_count": 7
        }
      ]
    },
    {
      "cell_type": "code",
      "source": [
        "#Types into object\n",
        "dset.dtypes == 'object'"
      ],
      "metadata": {
        "colab": {
          "base_uri": "https://localhost:8080/"
        },
        "id": "wix49xGOkqQ6",
        "outputId": "147e99d4-898d-4e34-8458-e5f2b3b97a02"
      },
      "execution_count": 8,
      "outputs": [
        {
          "output_type": "execute_result",
          "data": {
            "text/plain": [
              "RegionalMember          True\n",
              "Year                    True\n",
              "Inflation              False\n",
              "Unit of Measurement     True\n",
              " Subregion              True\n",
              " Country Code           True\n",
              "dtype: bool"
            ]
          },
          "metadata": {},
          "execution_count": 8
        }
      ]
    },
    {
      "cell_type": "code",
      "source": [
        "#Drop columns Unit of Measurement\n",
        "dset = dset.drop(columns=['Unit of Measurement'])"
      ],
      "metadata": {
        "id": "4un1htRomJ4v"
      },
      "execution_count": 9,
      "outputs": []
    },
    {
      "cell_type": "markdown",
      "source": [
        "**Changing columns to list**"
      ],
      "metadata": {
        "id": "f3zE5LlFjXpt"
      }
    },
    {
      "cell_type": "markdown",
      "source": [
        "**Renaming the columns by removing unnecessary space between then**"
      ],
      "metadata": {
        "id": "0pq7ErlHjeWq"
      }
    },
    {
      "cell_type": "code",
      "source": [
        "print(dset.columns.tolist())"
      ],
      "metadata": {
        "colab": {
          "base_uri": "https://localhost:8080/"
        },
        "id": "1DyagivJsw2w",
        "outputId": "9c60423b-d5a0-416b-feef-5c754c0f6f17"
      },
      "execution_count": 10,
      "outputs": [
        {
          "output_type": "stream",
          "name": "stdout",
          "text": [
            "['RegionalMember', 'Year', 'Inflation', ' Subregion', ' Country Code']\n"
          ]
        }
      ]
    },
    {
      "cell_type": "code",
      "source": [
        "#rename the columns\n",
        "dset.rename(columns={' Country Code': 'CountryCode', ' Subregion': 'Subregion'}, inplace=True)"
      ],
      "metadata": {
        "id": "HM0kTRb4uu8y"
      },
      "execution_count": 11,
      "outputs": []
    },
    {
      "cell_type": "code",
      "source": [
        "#Inflation box plot\n",
        "import seaborn as sns\n",
        "# Box plot\n",
        "sns.boxplot(dset.Inflation)"
      ],
      "metadata": {
        "colab": {
          "base_uri": "https://localhost:8080/",
          "height": 447
        },
        "id": "giYfkh2xmn3S",
        "outputId": "044f10b9-c4fd-473b-af3b-34a1c5b94a11"
      },
      "execution_count": 12,
      "outputs": [
        {
          "output_type": "execute_result",
          "data": {
            "text/plain": [
              "<Axes: >"
            ]
          },
          "metadata": {},
          "execution_count": 12
        },
        {
          "output_type": "display_data",
          "data": {
            "text/plain": [
              "<Figure size 640x480 with 1 Axes>"
            ],
            "image/png": "[encoded data removed]"
          },
          "metadata": {}
        }
      ]
    },
    {
      "cell_type": "code",
      "source": [
        "dset['Subregion'].value_counts()"
      ],
      "metadata": {
        "colab": {
          "base_uri": "https://localhost:8080/"
        },
        "id": "pHGwN_Z3vJda",
        "outputId": "4142784d-89cf-48b4-9051-cf1cd539a639"
      },
      "execution_count": 13,
      "outputs": [
        {
          "output_type": "execute_result",
          "data": {
            "text/plain": [
              "The Pacific       105\n",
              "Southeast Asia     84\n",
              "Central Asia       63\n",
              "South Asia         63\n",
              "East Asia          42\n",
              "Name: Subregion, dtype: int64"
            ]
          },
          "metadata": {},
          "execution_count": 13
        }
      ]
    },
    {
      "cell_type": "code",
      "source": [
        "dset[\"Inflation\"].describe() #Inflation Description"
      ],
      "metadata": {
        "colab": {
          "base_uri": "https://localhost:8080/"
        },
        "id": "fJNrqD8KhbgU",
        "outputId": "a103ef64-9143-4e42-852a-ed2faf03fe69"
      },
      "execution_count": 14,
      "outputs": [
        {
          "output_type": "execute_result",
          "data": {
            "text/plain": [
              "count    365.000000\n",
              "mean       4.728767\n",
              "std        4.555189\n",
              "min       -6.600000\n",
              "25%        2.200000\n",
              "50%        3.700000\n",
              "75%        6.200000\n",
              "max       46.400000\n",
              "Name: Inflation, dtype: float64"
            ]
          },
          "metadata": {},
          "execution_count": 14
        }
      ]
    },
    {
      "cell_type": "code",
      "source": [
        "#total Empty in dataset\n",
        "dset.isna().sum().sum()"
      ],
      "metadata": {
        "colab": {
          "base_uri": "https://localhost:8080/"
        },
        "id": "8GpbfHDCvipY",
        "outputId": "ee1b10cd-d945-4a81-f288-47a22deb4a7b"
      },
      "execution_count": 15,
      "outputs": [
        {
          "output_type": "execute_result",
          "data": {
            "text/plain": [
              "69"
            ]
          },
          "metadata": {},
          "execution_count": 15
        }
      ]
    },
    {
      "cell_type": "markdown",
      "source": [
        "**Missing Values in all columns**"
      ],
      "metadata": {
        "id": "fggAVvA_jpBO"
      }
    },
    {
      "cell_type": "code",
      "source": [
        "\n",
        "cc = dset['CountryCode'].isna().sum()\n",
        "sr = dset['Subregion'].isna().sum()\n",
        "rm = dset['RegionalMember'].isna().sum()\n",
        "ifn = dset['Inflation'].isna().sum()\n",
        "print(\"Countrycode\",cc)\n",
        "print(\"Subregion\",sr)\n",
        "print(\"Regional Membr\",rm)\n",
        "print(\"Inflation\",ifn)"
      ],
      "metadata": {
        "colab": {
          "base_uri": "https://localhost:8080/"
        },
        "id": "pqTuJe6IxvDU",
        "outputId": "6bcbb379-89b8-49fc-b546-60759c433315"
      },
      "execution_count": 16,
      "outputs": [
        {
          "output_type": "stream",
          "name": "stdout",
          "text": [
            "Countrycode 49\n",
            "Subregion 14\n",
            "Regional Membr 0\n",
            "Inflation 6\n"
          ]
        }
      ]
    },
    {
      "cell_type": "code",
      "source": [
        "dset.info()"
      ],
      "metadata": {
        "colab": {
          "base_uri": "https://localhost:8080/"
        },
        "id": "uicXrjPp2T67",
        "outputId": "fb6c7780-d1f3-45e5-c26f-79f30cf48259"
      },
      "execution_count": 17,
      "outputs": [
        {
          "output_type": "stream",
          "name": "stdout",
          "text": [
            "<class 'pandas.core.frame.DataFrame'>\n",
            "RangeIndex: 371 entries, 0 to 370\n",
            "Data columns (total 5 columns):\n",
            " #   Column          Non-Null Count  Dtype  \n",
            "---  ------          --------------  -----  \n",
            " 0   RegionalMember  371 non-null    object \n",
            " 1   Year            371 non-null    object \n",
            " 2   Inflation       365 non-null    float64\n",
            " 3   Subregion       357 non-null    object \n",
            " 4   CountryCode     322 non-null    object \n",
            "dtypes: float64(1), object(4)\n",
            "memory usage: 14.6+ KB\n"
          ]
        }
      ]
    },
    {
      "cell_type": "markdown",
      "source": [
        "**Replacing Inflation missing values with not available for now and after removing all the missing values rows, it is again changed to NaN**"
      ],
      "metadata": {
        "id": "A9HkMzBOjzrT"
      }
    },
    {
      "cell_type": "code",
      "source": [
        "\n",
        "dset[\"Inflation\"] = dset[\"Inflation\"].fillna(\"not available\")"
      ],
      "metadata": {
        "id": "DbVBrJz8jl8u"
      },
      "execution_count": 18,
      "outputs": []
    },
    {
      "cell_type": "code",
      "source": [
        "#Number of missing values per column\n",
        "dset.isnull().sum()"
      ],
      "metadata": {
        "colab": {
          "base_uri": "https://localhost:8080/"
        },
        "id": "F53wdkK_ACLW",
        "outputId": "b18c2e58-7b7f-4bc7-c969-9e16768f8d78"
      },
      "execution_count": 19,
      "outputs": [
        {
          "output_type": "execute_result",
          "data": {
            "text/plain": [
              "RegionalMember     0\n",
              "Year               0\n",
              "Inflation          0\n",
              "Subregion         14\n",
              "CountryCode       49\n",
              "dtype: int64"
            ]
          },
          "metadata": {},
          "execution_count": 19
        }
      ]
    },
    {
      "cell_type": "markdown",
      "source": [
        "Deleting other values which is NaN"
      ],
      "metadata": {
        "id": "bcYFL1iiU_LC"
      }
    },
    {
      "cell_type": "code",
      "source": [
        "dset = dset.dropna(axis=0)"
      ],
      "metadata": {
        "id": "4u2PIU4Qz9Ze"
      },
      "execution_count": 20,
      "outputs": []
    },
    {
      "cell_type": "code",
      "source": [
        "dset.isnull().sum()"
      ],
      "metadata": {
        "colab": {
          "base_uri": "https://localhost:8080/"
        },
        "id": "a9bmPQWJ0FCa",
        "outputId": "e660ebff-90fb-43bd-ec5d-8427cfc47b75"
      },
      "execution_count": 21,
      "outputs": [
        {
          "output_type": "execute_result",
          "data": {
            "text/plain": [
              "RegionalMember    0\n",
              "Year              0\n",
              "Inflation         0\n",
              "Subregion         0\n",
              "CountryCode       0\n",
              "dtype: int64"
            ]
          },
          "metadata": {},
          "execution_count": 21
        }
      ]
    },
    {
      "cell_type": "code",
      "source": [
        "dset['Subregion'].value_counts()"
      ],
      "metadata": {
        "colab": {
          "base_uri": "https://localhost:8080/"
        },
        "id": "2jk4qr5R0MqE",
        "outputId": "3da21646-a8b1-478f-94dc-ccd6a1486e6a"
      },
      "execution_count": 22,
      "outputs": [
        {
          "output_type": "execute_result",
          "data": {
            "text/plain": [
              "The Pacific       98\n",
              "Southeast Asia    77\n",
              "Central Asia      56\n",
              "South Asia        56\n",
              "East Asia         35\n",
              "Name: Subregion, dtype: int64"
            ]
          },
          "metadata": {},
          "execution_count": 22
        }
      ]
    },
    {
      "cell_type": "code",
      "source": [
        "dset['CountryCode'].value_counts()\n"
      ],
      "metadata": {
        "colab": {
          "base_uri": "https://localhost:8080/"
        },
        "id": "ufZIiR1SA8j9",
        "outputId": "43efe9d1-1871-469b-e7f9-ef3a46cfe9a4"
      },
      "execution_count": 23,
      "outputs": [
        {
          "output_type": "execute_result",
          "data": {
            "text/plain": [
              "ARM    7\n",
              "FJI    7\n",
              "MYS    7\n",
              "MMR    7\n",
              "PHL    7\n",
              "SGP    7\n",
              "THA    7\n",
              "TLS    7\n",
              "VNM    7\n",
              "COO    7\n",
              "FSM    7\n",
              "KIR    7\n",
              "AZE    7\n",
              "MHL    7\n",
              "NRU    7\n",
              "NIU    7\n",
              "PLW    7\n",
              "PNG    7\n",
              "WSM    7\n",
              "SLB    7\n",
              "TON    7\n",
              "TUV    7\n",
              "LAO    7\n",
              "IDN    7\n",
              "KHM    7\n",
              "BRN    7\n",
              "GEO    7\n",
              "KAZ    7\n",
              "KGZ    7\n",
              "TJK    7\n",
              "TKM    7\n",
              "UZB    7\n",
              "HKG    7\n",
              "MNG    7\n",
              "CHN    7\n",
              "KOR    7\n",
              "TWN    7\n",
              "AFG    7\n",
              "BGD    7\n",
              "BTN    7\n",
              "IND    7\n",
              "MDV    7\n",
              "NPL    7\n",
              "PAK    7\n",
              "LKA    7\n",
              "VUT    7\n",
              "Name: CountryCode, dtype: int64"
            ]
          },
          "metadata": {},
          "execution_count": 23
        }
      ]
    },
    {
      "cell_type": "code",
      "source": [
        "dset['RegionalMember'].value_counts()"
      ],
      "metadata": {
        "colab": {
          "base_uri": "https://localhost:8080/"
        },
        "id": "nn7QwEC9A82v",
        "outputId": "25c6a171-86d8-45e3-e138-21b4543bcd5c"
      },
      "execution_count": 24,
      "outputs": [
        {
          "output_type": "execute_result",
          "data": {
            "text/plain": [
              "Armenia                           7\n",
              "Fiji                              7\n",
              "Malaysia                          7\n",
              "Myanmar                           7\n",
              "Philippines                       7\n",
              "Singapore                         7\n",
              "Thailand                          7\n",
              "Timor-Leste                       7\n",
              "Viet Nam                          7\n",
              "Cook Islands                      7\n",
              "Federated States of Micronesia    7\n",
              "Kiribati                          7\n",
              "Azerbaijan                        7\n",
              "Marshall Islands                  7\n",
              "Nauru                             7\n",
              "Niue                              7\n",
              "Palau                             7\n",
              "Papua New Guinea                  7\n",
              "Samoa                             7\n",
              "Solomon Islands                   7\n",
              "Tonga                             7\n",
              "Tuvalu                            7\n",
              "Lao Peoples Dem. Rep.            7\n",
              "Indonesia                         7\n",
              "Cambodia                          7\n",
              "Brunei Darussalam                 7\n",
              "Georgia                           7\n",
              "Kazakhstan                        7\n",
              "Kyrgyz Republic                   7\n",
              "Tajikistan                        7\n",
              "Turkmenistan                      7\n",
              "Uzbekistan                        7\n",
              "Hong Kong, China                  7\n",
              "Mongolia                          7\n",
              "People's Republic of China        7\n",
              "Republic of Korea                 7\n",
              "Taipei,China                      7\n",
              "Afghanistan                       7\n",
              "Bangladesh                        7\n",
              "Bhutan                            7\n",
              "India                             7\n",
              "Maldives                          7\n",
              "Nepal                             7\n",
              "Pakistan                          7\n",
              "Sri Lanka                         7\n",
              "Vanuatu                           7\n",
              "Name: RegionalMember, dtype: int64"
            ]
          },
          "metadata": {},
          "execution_count": 24
        }
      ]
    },
    {
      "cell_type": "markdown",
      "source": [
        "Replace \"not available\" values which is changed before to NaN again.\n",
        " Here, We are predicting Inflation "
      ],
      "metadata": {
        "id": "LNAKfZ-9VTr7"
      }
    },
    {
      "cell_type": "code",
      "source": [
        "#Again now replace not availble with nan \n",
        "dset['Inflation']= dset['Inflation'].replace('not available', np.nan)"
      ],
      "metadata": {
        "id": "EyhmqVyH1UD7",
        "colab": {
          "base_uri": "https://localhost:8080/"
        },
        "outputId": "78eae6ed-b76f-48e6-ee77-9212bcd7e12a"
      },
      "execution_count": 25,
      "outputs": [
        {
          "output_type": "stream",
          "name": "stderr",
          "text": [
            "<ipython-input-25-7db2595f3f02>:2: SettingWithCopyWarning: \n",
            "A value is trying to be set on a copy of a slice from a DataFrame.\n",
            "Try using .loc[row_indexer,col_indexer] = value instead\n",
            "\n",
            "See the caveats in the documentation: https://pandas.pydata.org/pandas-docs/stable/user_guide/indexing.html#returning-a-view-versus-a-copy\n",
            "  dset['Inflation']= dset['Inflation'].replace('not available', np.nan)\n"
          ]
        }
      ]
    },
    {
      "cell_type": "code",
      "source": [
        "dset.head(10)"
      ],
      "metadata": {
        "colab": {
          "base_uri": "https://localhost:8080/",
          "height": 363
        },
        "id": "RCM4PyUpm5dG",
        "outputId": "f8339fcc-bfff-43be-8912-a1d550abf085"
      },
      "execution_count": 26,
      "outputs": [
        {
          "output_type": "execute_result",
          "data": {
            "text/plain": [
              "   RegionalMember           Year  Inflation     Subregion CountryCode\n",
              "21        Armenia           2018        2.5  Central Asia         ARM\n",
              "22        Armenia           2019        1.4  Central Asia         ARM\n",
              "23        Armenia           2020        1.2  Central Asia         ARM\n",
              "24        Armenia           2021        7.2  Central Asia         ARM\n",
              "25        Armenia           2022        8.6  Central Asia         ARM\n",
              "26        Armenia  2023 forecast        7.0  Central Asia         ARM\n",
              "27        Armenia  2024 forecast        6.2  Central Asia         ARM\n",
              "28     Azerbaijan           2018        2.4  Central Asia         AZE\n",
              "29     Azerbaijan           2019        2.7  Central Asia         AZE\n",
              "30     Azerbaijan           2020        2.8  Central Asia         AZE"
            ],
            "text/html": [
              "\n",
              "  <div id=\"df-9b5292ef-fa3f-429e-8614-a7b543778360\">\n",
              "    <div class=\"colab-df-container\">\n",
              "      <div>\n",
              "<style scoped>\n",
              "    .dataframe tbody tr th:only-of-type {\n",
              "        vertical-align: middle;\n",
              "    }\n",
              "\n",
              "    .dataframe tbody tr th {\n",
              "        vertical-align: top;\n",
              "    }\n",
              "\n",
              "    .dataframe thead th {\n",
              "        text-align: right;\n",
              "    }\n",
              "</style>\n",
              "<table border=\"1\" class=\"dataframe\">\n",
              "  <thead>\n",
              "    <tr style=\"text-align: right;\">\n",
              "      <th></th>\n",
              "      <th>RegionalMember</th>\n",
              "      <th>Year</th>\n",
              "      <th>Inflation</th>\n",
              "      <th>Subregion</th>\n",
              "      <th>CountryCode</th>\n",
              "    </tr>\n",
              "  </thead>\n",
              "  <tbody>\n",
              "    <tr>\n",
              "      <th>21</th>\n",
              "      <td>Armenia</td>\n",
              "      <td>2018</td>\n",
              "      <td>2.5</td>\n",
              "      <td>Central Asia</td>\n",
              "      <td>ARM</td>\n",
              "    </tr>\n",
              "    <tr>\n",
              "      <th>22</th>\n",
              "      <td>Armenia</td>\n",
              "      <td>2019</td>\n",
              "      <td>1.4</td>\n",
              "      <td>Central Asia</td>\n",
              "      <td>ARM</td>\n",
              "    </tr>\n",
              "    <tr>\n",
              "      <th>23</th>\n",
              "      <td>Armenia</td>\n",
              "      <td>2020</td>\n",
              "      <td>1.2</td>\n",
              "      <td>Central Asia</td>\n",
              "      <td>ARM</td>\n",
              "    </tr>\n",
              "    <tr>\n",
              "      <th>24</th>\n",
              "      <td>Armenia</td>\n",
              "      <td>2021</td>\n",
              "      <td>7.2</td>\n",
              "      <td>Central Asia</td>\n",
              "      <td>ARM</td>\n",
              "    </tr>\n",
              "    <tr>\n",
              "      <th>25</th>\n",
              "      <td>Armenia</td>\n",
              "      <td>2022</td>\n",
              "      <td>8.6</td>\n",
              "      <td>Central Asia</td>\n",
              "      <td>ARM</td>\n",
              "    </tr>\n",
              "    <tr>\n",
              "      <th>26</th>\n",
              "      <td>Armenia</td>\n",
              "      <td>2023 forecast</td>\n",
              "      <td>7.0</td>\n",
              "      <td>Central Asia</td>\n",
              "      <td>ARM</td>\n",
              "    </tr>\n",
              "    <tr>\n",
              "      <th>27</th>\n",
              "      <td>Armenia</td>\n",
              "      <td>2024 forecast</td>\n",
              "      <td>6.2</td>\n",
              "      <td>Central Asia</td>\n",
              "      <td>ARM</td>\n",
              "    </tr>\n",
              "    <tr>\n",
              "      <th>28</th>\n",
              "      <td>Azerbaijan</td>\n",
              "      <td>2018</td>\n",
              "      <td>2.4</td>\n",
              "      <td>Central Asia</td>\n",
              "      <td>AZE</td>\n",
              "    </tr>\n",
              "    <tr>\n",
              "      <th>29</th>\n",
              "      <td>Azerbaijan</td>\n",
              "      <td>2019</td>\n",
              "      <td>2.7</td>\n",
              "      <td>Central Asia</td>\n",
              "      <td>AZE</td>\n",
              "    </tr>\n",
              "    <tr>\n",
              "      <th>30</th>\n",
              "      <td>Azerbaijan</td>\n",
              "      <td>2020</td>\n",
              "      <td>2.8</td>\n",
              "      <td>Central Asia</td>\n",
              "      <td>AZE</td>\n",
              "    </tr>\n",
              "  </tbody>\n",
              "</table>\n",
              "</div>\n",
              "      <button class=\"colab-df-convert\" onclick=\"convertToInteractive('df-9b5292ef-fa3f-429e-8614-a7b543778360')\"\n",
              "              title=\"Convert this dataframe to an interactive table.\"\n",
              "              style=\"display:none;\">\n",
              "        \n",
              "  <svg xmlns=\"http://www.w3.org/2000/svg\" height=\"24px\"viewBox=\"0 0 24 24\"\n",
              "       width=\"24px\">\n",
              "    <path d=\"M0 0h24v24H0V0z\" fill=\"none\"/>\n",
              "    <path d=\"M18.56 5.44l.94 2.06.94-2.06 2.06-.94-2.06-.94-.94-2.06-.94 2.06-2.06.94zm-11 1L8.5 8.5l.94-2.06 2.06-.94-2.06-.94L8.5 2.5l-.94 2.06-2.06.94zm10 10l.94 2.06.94-2.06 2.06-.94-2.06-.94-.94-2.06-.94 2.06-2.06.94z\"/><path d=\"M17.41 7.96l-1.37-1.37c-.4-.4-.92-.59-1.43-.59-.52 0-1.04.2-1.43.59L10.3 9.45l-7.72 7.72c-.78.78-.78 2.05 0 2.83L4 21.41c.39.39.9.59 1.41.59.51 0 1.02-.2 1.41-.59l7.78-7.78 2.81-2.81c.8-.78.8-2.07 0-2.86zM5.41 20L4 18.59l7.72-7.72 1.47 1.35L5.41 20z\"/>\n",
              "  </svg>\n",
              "      </button>\n",
              "      \n",
              "  <style>\n",
              "    .colab-df-container {\n",
              "      display:flex;\n",
              "      flex-wrap:wrap;\n",
              "      gap: 12px;\n",
              "    }\n",
              "\n",
              "    .colab-df-convert {\n",
              "      background-color: #E8F0FE;\n",
              "      border: none;\n",
              "      border-radius: 50%;\n",
              "      cursor: pointer;\n",
              "      display: none;\n",
              "      fill: #1967D2;\n",
              "      height: 32px;\n",
              "      padding: 0 0 0 0;\n",
              "      width: 32px;\n",
              "    }\n",
              "\n",
              "    .colab-df-convert:hover {\n",
              "      background-color: #E2EBFA;\n",
              "      box-shadow: 0px 1px 2px rgba(60, 64, 67, 0.3), 0px 1px 3px 1px rgba(60, 64, 67, 0.15);\n",
              "      fill: #174EA6;\n",
              "    }\n",
              "\n",
              "    [theme=dark] .colab-df-convert {\n",
              "      background-color: #3B4455;\n",
              "      fill: #D2E3FC;\n",
              "    }\n",
              "\n",
              "    [theme=dark] .colab-df-convert:hover {\n",
              "      background-color: #434B5C;\n",
              "      box-shadow: 0px 1px 3px 1px rgba(0, 0, 0, 0.15);\n",
              "      filter: drop-shadow(0px 1px 2px rgba(0, 0, 0, 0.3));\n",
              "      fill: #FFFFFF;\n",
              "    }\n",
              "  </style>\n",
              "\n",
              "      <script>\n",
              "        const buttonEl =\n",
              "          document.querySelector('#df-9b5292ef-fa3f-429e-8614-a7b543778360 button.colab-df-convert');\n",
              "        buttonEl.style.display =\n",
              "          google.colab.kernel.accessAllowed ? 'block' : 'none';\n",
              "\n",
              "        async function convertToInteractive(key) {\n",
              "          const element = document.querySelector('#df-9b5292ef-fa3f-429e-8614-a7b543778360');\n",
              "          const dataTable =\n",
              "            await google.colab.kernel.invokeFunction('convertToInteractive',\n",
              "                                                     [key], {});\n",
              "          if (!dataTable) return;\n",
              "\n",
              "          const docLinkHtml = 'Like what you see? Visit the ' +\n",
              "            '<a target=\"_blank\" href=https://colab.research.google.com/notebooks/data_table.ipynb>data table notebook</a>'\n",
              "            + ' to learn more about interactive tables.';\n",
              "          element.innerHTML = '';\n",
              "          dataTable['output_type'] = 'display_data';\n",
              "          await google.colab.output.renderOutput(dataTable, element);\n",
              "          const docLink = document.createElement('div');\n",
              "          docLink.innerHTML = docLinkHtml;\n",
              "          element.appendChild(docLink);\n",
              "        }\n",
              "      </script>\n",
              "    </div>\n",
              "  </div>\n",
              "  "
            ]
          },
          "metadata": {},
          "execution_count": 26
        }
      ]
    },
    {
      "cell_type": "code",
      "source": [
        "#Sort values according to nan of inflation\n",
        "dset = dset.sort_values(by=\"Inflation\", ascending=False, na_position='first')"
      ],
      "metadata": {
        "id": "Fu7oRNhTm_IR"
      },
      "execution_count": 27,
      "outputs": []
    },
    {
      "cell_type": "markdown",
      "source": [
        "**One Hot Encoding to dataset**"
      ],
      "metadata": {
        "id": "Te2zQ1uvVmiP"
      }
    },
    {
      "cell_type": "code",
      "source": [
        "#One hot encoding to whole data\n",
        "dset_one_hot_encoding = pd.get_dummies(dset)"
      ],
      "metadata": {
        "id": "hF-DmHImnckJ"
      },
      "execution_count": 28,
      "outputs": []
    },
    {
      "cell_type": "code",
      "source": [
        "print(\"Dataset dimension\",dset_one_hot_encoding.shape)"
      ],
      "metadata": {
        "colab": {
          "base_uri": "https://localhost:8080/"
        },
        "id": "uiPoIH4EnvfH",
        "outputId": "72d61f52-5b9e-416e-cea7-3105f0cd2f40"
      },
      "execution_count": 29,
      "outputs": [
        {
          "output_type": "stream",
          "name": "stdout",
          "text": [
            "Dataset dimension (322, 105)\n"
          ]
        }
      ]
    },
    {
      "cell_type": "code",
      "source": [
        "type(dset_one_hot_encoding)"
      ],
      "metadata": {
        "colab": {
          "base_uri": "https://localhost:8080/"
        },
        "id": "rUuzQs5XjetY",
        "outputId": "9aaf4ffa-f202-4c2a-aafe-805be025191f"
      },
      "execution_count": 30,
      "outputs": [
        {
          "output_type": "execute_result",
          "data": {
            "text/plain": [
              "pandas.core.frame.DataFrame"
            ]
          },
          "metadata": {},
          "execution_count": 30
        }
      ]
    },
    {
      "cell_type": "code",
      "source": [
        "print(dset_one_hot_encoding)"
      ],
      "metadata": {
        "colab": {
          "base_uri": "https://localhost:8080/"
        },
        "id": "dbcBz4BQn4bJ",
        "outputId": "047cd355-743d-4cde-f832-dd9b7b0d6fef"
      },
      "execution_count": 31,
      "outputs": [
        {
          "output_type": "stream",
          "name": "stdout",
          "text": [
            "     Inflation  RegionalMember_Afghanistan  RegionalMember_Armenia  \\\n",
            "131        NaN                           1                       0   \n",
            "132        NaN                           1                       0   \n",
            "318        NaN                           0                       0   \n",
            "319        NaN                           0                       0   \n",
            "320        NaN                           0                       0   \n",
            "..         ...                         ...                     ...   \n",
            "295       -1.8                           0                       0   \n",
            "289       -2.6                           0                       0   \n",
            "339       -3.0                           0                       0   \n",
            "350       -3.9                           0                       0   \n",
            "310       -6.6                           0                       0   \n",
            "\n",
            "     RegionalMember_Azerbaijan  RegionalMember_Bangladesh  \\\n",
            "131                          0                          0   \n",
            "132                          0                          0   \n",
            "318                          0                          0   \n",
            "319                          0                          0   \n",
            "320                          0                          0   \n",
            "..                         ...                        ...   \n",
            "295                          0                          0   \n",
            "289                          0                          0   \n",
            "339                          0                          0   \n",
            "350                          0                          0   \n",
            "310                          0                          0   \n",
            "\n",
            "     RegionalMember_Bhutan  RegionalMember_Brunei Darussalam  \\\n",
            "131                      0                                 0   \n",
            "132                      0                                 0   \n",
            "318                      0                                 0   \n",
            "319                      0                                 0   \n",
            "320                      0                                 0   \n",
            "..                     ...                               ...   \n",
            "295                      0                                 0   \n",
            "289                      0                                 0   \n",
            "339                      0                                 0   \n",
            "350                      0                                 0   \n",
            "310                      0                                 0   \n",
            "\n",
            "     RegionalMember_Cambodia  RegionalMember_Cook Islands  \\\n",
            "131                        0                            0   \n",
            "132                        0                            0   \n",
            "318                        0                            0   \n",
            "319                        0                            0   \n",
            "320                        0                            0   \n",
            "..                       ...                          ...   \n",
            "295                        0                            0   \n",
            "289                        0                            0   \n",
            "339                        0                            0   \n",
            "350                        0                            0   \n",
            "310                        0                            0   \n",
            "\n",
            "     RegionalMember_Federated States of Micronesia  ...  CountryCode_TJK  \\\n",
            "131                                              0  ...                0   \n",
            "132                                              0  ...                0   \n",
            "318                                              0  ...                0   \n",
            "319                                              0  ...                0   \n",
            "320                                              0  ...                0   \n",
            "..                                             ...  ...              ...   \n",
            "295                                              0  ...                0   \n",
            "289                                              0  ...                0   \n",
            "339                                              0  ...                0   \n",
            "350                                              0  ...                0   \n",
            "310                                              0  ...                0   \n",
            "\n",
            "     CountryCode_TKM  CountryCode_TLS  CountryCode_TON  CountryCode_TUV  \\\n",
            "131                0                0                0                0   \n",
            "132                0                0                0                0   \n",
            "318                0                0                0                0   \n",
            "319                0                0                0                0   \n",
            "320                0                0                0                0   \n",
            "..               ...              ...              ...              ...   \n",
            "295                0                0                0                0   \n",
            "289                0                0                0                0   \n",
            "339                0                0                0                0   \n",
            "350                0                0                1                0   \n",
            "310                0                0                0                0   \n",
            "\n",
            "     CountryCode_TWN  CountryCode_UZB  CountryCode_VNM  CountryCode_VUT  \\\n",
            "131                0                0                0                0   \n",
            "132                0                0                0                0   \n",
            "318                0                0                0                0   \n",
            "319                0                0                0                0   \n",
            "320                0                0                0                0   \n",
            "..               ...              ...              ...              ...   \n",
            "295                0                0                0                0   \n",
            "289                0                0                0                0   \n",
            "339                0                0                0                0   \n",
            "350                0                0                0                0   \n",
            "310                0                0                0                0   \n",
            "\n",
            "     CountryCode_WSM  \n",
            "131                0  \n",
            "132                0  \n",
            "318                0  \n",
            "319                0  \n",
            "320                0  \n",
            "..               ...  \n",
            "295                0  \n",
            "289                0  \n",
            "339                1  \n",
            "350                0  \n",
            "310                0  \n",
            "\n",
            "[322 rows x 105 columns]\n"
          ]
        }
      ]
    },
    {
      "cell_type": "code",
      "source": [
        "dset.isnull().sum()"
      ],
      "metadata": {
        "colab": {
          "base_uri": "https://localhost:8080/"
        },
        "id": "BHlOE0fG2kKn",
        "outputId": "e841a654-770c-4f35-d9fb-2ca5732836e9"
      },
      "execution_count": 32,
      "outputs": [
        {
          "output_type": "execute_result",
          "data": {
            "text/plain": [
              "RegionalMember    0\n",
              "Year              0\n",
              "Inflation         6\n",
              "Subregion         0\n",
              "CountryCode       0\n",
              "dtype: int64"
            ]
          },
          "metadata": {},
          "execution_count": 32
        }
      ]
    },
    {
      "cell_type": "code",
      "source": [
        "dset.head(2)"
      ],
      "metadata": {
        "colab": {
          "base_uri": "https://localhost:8080/",
          "height": 112
        },
        "id": "eBTpuGHZtyTQ",
        "outputId": "05b24332-125d-4f48-ae0c-4c931e87cf71"
      },
      "execution_count": 33,
      "outputs": [
        {
          "output_type": "execute_result",
          "data": {
            "text/plain": [
              "    RegionalMember           Year  Inflation   Subregion CountryCode\n",
              "131    Afghanistan  2023 forecast        NaN  South Asia         AFG\n",
              "132    Afghanistan  2024 forecast        NaN  South Asia         AFG"
            ],
            "text/html": [
              "\n",
              "  <div id=\"df-e37dca6a-c6a9-4c8c-b45a-d67bc41ae91d\">\n",
              "    <div class=\"colab-df-container\">\n",
              "      <div>\n",
              "<style scoped>\n",
              "    .dataframe tbody tr th:only-of-type {\n",
              "        vertical-align: middle;\n",
              "    }\n",
              "\n",
              "    .dataframe tbody tr th {\n",
              "        vertical-align: top;\n",
              "    }\n",
              "\n",
              "    .dataframe thead th {\n",
              "        text-align: right;\n",
              "    }\n",
              "</style>\n",
              "<table border=\"1\" class=\"dataframe\">\n",
              "  <thead>\n",
              "    <tr style=\"text-align: right;\">\n",
              "      <th></th>\n",
              "      <th>RegionalMember</th>\n",
              "      <th>Year</th>\n",
              "      <th>Inflation</th>\n",
              "      <th>Subregion</th>\n",
              "      <th>CountryCode</th>\n",
              "    </tr>\n",
              "  </thead>\n",
              "  <tbody>\n",
              "    <tr>\n",
              "      <th>131</th>\n",
              "      <td>Afghanistan</td>\n",
              "      <td>2023 forecast</td>\n",
              "      <td>NaN</td>\n",
              "      <td>South Asia</td>\n",
              "      <td>AFG</td>\n",
              "    </tr>\n",
              "    <tr>\n",
              "      <th>132</th>\n",
              "      <td>Afghanistan</td>\n",
              "      <td>2024 forecast</td>\n",
              "      <td>NaN</td>\n",
              "      <td>South Asia</td>\n",
              "      <td>AFG</td>\n",
              "    </tr>\n",
              "  </tbody>\n",
              "</table>\n",
              "</div>\n",
              "      <button class=\"colab-df-convert\" onclick=\"convertToInteractive('df-e37dca6a-c6a9-4c8c-b45a-d67bc41ae91d')\"\n",
              "              title=\"Convert this dataframe to an interactive table.\"\n",
              "              style=\"display:none;\">\n",
              "        \n",
              "  <svg xmlns=\"http://www.w3.org/2000/svg\" height=\"24px\"viewBox=\"0 0 24 24\"\n",
              "       width=\"24px\">\n",
              "    <path d=\"M0 0h24v24H0V0z\" fill=\"none\"/>\n",
              "    <path d=\"M18.56 5.44l.94 2.06.94-2.06 2.06-.94-2.06-.94-.94-2.06-.94 2.06-2.06.94zm-11 1L8.5 8.5l.94-2.06 2.06-.94-2.06-.94L8.5 2.5l-.94 2.06-2.06.94zm10 10l.94 2.06.94-2.06 2.06-.94-2.06-.94-.94-2.06-.94 2.06-2.06.94z\"/><path d=\"M17.41 7.96l-1.37-1.37c-.4-.4-.92-.59-1.43-.59-.52 0-1.04.2-1.43.59L10.3 9.45l-7.72 7.72c-.78.78-.78 2.05 0 2.83L4 21.41c.39.39.9.59 1.41.59.51 0 1.02-.2 1.41-.59l7.78-7.78 2.81-2.81c.8-.78.8-2.07 0-2.86zM5.41 20L4 18.59l7.72-7.72 1.47 1.35L5.41 20z\"/>\n",
              "  </svg>\n",
              "      </button>\n",
              "      \n",
              "  <style>\n",
              "    .colab-df-container {\n",
              "      display:flex;\n",
              "      flex-wrap:wrap;\n",
              "      gap: 12px;\n",
              "    }\n",
              "\n",
              "    .colab-df-convert {\n",
              "      background-color: #E8F0FE;\n",
              "      border: none;\n",
              "      border-radius: 50%;\n",
              "      cursor: pointer;\n",
              "      display: none;\n",
              "      fill: #1967D2;\n",
              "      height: 32px;\n",
              "      padding: 0 0 0 0;\n",
              "      width: 32px;\n",
              "    }\n",
              "\n",
              "    .colab-df-convert:hover {\n",
              "      background-color: #E2EBFA;\n",
              "      box-shadow: 0px 1px 2px rgba(60, 64, 67, 0.3), 0px 1px 3px 1px rgba(60, 64, 67, 0.15);\n",
              "      fill: #174EA6;\n",
              "    }\n",
              "\n",
              "    [theme=dark] .colab-df-convert {\n",
              "      background-color: #3B4455;\n",
              "      fill: #D2E3FC;\n",
              "    }\n",
              "\n",
              "    [theme=dark] .colab-df-convert:hover {\n",
              "      background-color: #434B5C;\n",
              "      box-shadow: 0px 1px 3px 1px rgba(0, 0, 0, 0.15);\n",
              "      filter: drop-shadow(0px 1px 2px rgba(0, 0, 0, 0.3));\n",
              "      fill: #FFFFFF;\n",
              "    }\n",
              "  </style>\n",
              "\n",
              "      <script>\n",
              "        const buttonEl =\n",
              "          document.querySelector('#df-e37dca6a-c6a9-4c8c-b45a-d67bc41ae91d button.colab-df-convert');\n",
              "        buttonEl.style.display =\n",
              "          google.colab.kernel.accessAllowed ? 'block' : 'none';\n",
              "\n",
              "        async function convertToInteractive(key) {\n",
              "          const element = document.querySelector('#df-e37dca6a-c6a9-4c8c-b45a-d67bc41ae91d');\n",
              "          const dataTable =\n",
              "            await google.colab.kernel.invokeFunction('convertToInteractive',\n",
              "                                                     [key], {});\n",
              "          if (!dataTable) return;\n",
              "\n",
              "          const docLinkHtml = 'Like what you see? Visit the ' +\n",
              "            '<a target=\"_blank\" href=https://colab.research.google.com/notebooks/data_table.ipynb>data table notebook</a>'\n",
              "            + ' to learn more about interactive tables.';\n",
              "          element.innerHTML = '';\n",
              "          dataTable['output_type'] = 'display_data';\n",
              "          await google.colab.output.renderOutput(dataTable, element);\n",
              "          const docLink = document.createElement('div');\n",
              "          docLink.innerHTML = docLinkHtml;\n",
              "          element.appendChild(docLink);\n",
              "        }\n",
              "      </script>\n",
              "    </div>\n",
              "  </div>\n",
              "  "
            ]
          },
          "metadata": {},
          "execution_count": 33
        }
      ]
    },
    {
      "cell_type": "markdown",
      "source": [
        "**Dividing data into two groups having missing values of Inflation and without missing values**"
      ],
      "metadata": {
        "id": "lRQ1a07OV1UM"
      }
    },
    {
      "cell_type": "code",
      "source": [
        "#Dividing data into two groups having missing values and non missing values\n",
        "column_with_nan = \"Inflation\"\n",
        "data_with_nan = dset_one_hot_encoding[dset_one_hot_encoding[column_with_nan].isnull()]\n",
        "data_without_nan = dset_one_hot_encoding[dset_one_hot_encoding[column_with_nan].notnull()]"
      ],
      "metadata": {
        "id": "JNXIdVSkMUvA"
      },
      "execution_count": 34,
      "outputs": []
    },
    {
      "cell_type": "code",
      "source": [
        "print(\"Dset without nan dimension\",data_without_nan.shape)\n",
        "print(\"Dset with nan dimension\",data_with_nan.shape)\n",
        "type(data_without_nan)"
      ],
      "metadata": {
        "colab": {
          "base_uri": "https://localhost:8080/"
        },
        "id": "uyT3-kjEvBwD",
        "outputId": "cd02959f-4a39-4d75-95b8-96d39611673d"
      },
      "execution_count": 35,
      "outputs": [
        {
          "output_type": "stream",
          "name": "stdout",
          "text": [
            "Dset without nan dimension (316, 105)\n",
            "Dset with nan dimension (6, 105)\n"
          ]
        },
        {
          "output_type": "execute_result",
          "data": {
            "text/plain": [
              "pandas.core.frame.DataFrame"
            ]
          },
          "metadata": {},
          "execution_count": 35
        }
      ]
    },
    {
      "cell_type": "code",
      "source": [
        "data_without_nan.head(2)"
      ],
      "metadata": {
        "colab": {
          "base_uri": "https://localhost:8080/",
          "height": 223
        },
        "id": "CbX9YctNtrRu",
        "outputId": "5af89694-d1ca-46bf-ada0-d736ae854e6e"
      },
      "execution_count": 36,
      "outputs": [
        {
          "output_type": "execute_result",
          "data": {
            "text/plain": [
              "     Inflation  RegionalMember_Afghanistan  RegionalMember_Armenia  \\\n",
              "179       46.4                           0                       0   \n",
              "173       27.5                           0                       0   \n",
              "\n",
              "     RegionalMember_Azerbaijan  RegionalMember_Bangladesh  \\\n",
              "179                          0                          0   \n",
              "173                          0                          0   \n",
              "\n",
              "     RegionalMember_Bhutan  RegionalMember_Brunei Darussalam  \\\n",
              "179                      0                                 0   \n",
              "173                      0                                 0   \n",
              "\n",
              "     RegionalMember_Cambodia  RegionalMember_Cook Islands  \\\n",
              "179                        0                            0   \n",
              "173                        0                            0   \n",
              "\n",
              "     RegionalMember_Federated States of Micronesia  ...  CountryCode_TJK  \\\n",
              "179                                              0  ...                0   \n",
              "173                                              0  ...                0   \n",
              "\n",
              "     CountryCode_TKM  CountryCode_TLS  CountryCode_TON  CountryCode_TUV  \\\n",
              "179                0                0                0                0   \n",
              "173                0                0                0                0   \n",
              "\n",
              "     CountryCode_TWN  CountryCode_UZB  CountryCode_VNM  CountryCode_VUT  \\\n",
              "179                0                0                0                0   \n",
              "173                0                0                0                0   \n",
              "\n",
              "     CountryCode_WSM  \n",
              "179                0  \n",
              "173                0  \n",
              "\n",
              "[2 rows x 105 columns]"
            ],
            "text/html": [
              "\n",
              "  <div id=\"df-774d53eb-a239-49da-bf57-8f30f945e66a\">\n",
              "    <div class=\"colab-df-container\">\n",
              "      <div>\n",
              "<style scoped>\n",
              "    .dataframe tbody tr th:only-of-type {\n",
              "        vertical-align: middle;\n",
              "    }\n",
              "\n",
              "    .dataframe tbody tr th {\n",
              "        vertical-align: top;\n",
              "    }\n",
              "\n",
              "    .dataframe thead th {\n",
              "        text-align: right;\n",
              "    }\n",
              "</style>\n",
              "<table border=\"1\" class=\"dataframe\">\n",
              "  <thead>\n",
              "    <tr style=\"text-align: right;\">\n",
              "      <th></th>\n",
              "      <th>Inflation</th>\n",
              "      <th>RegionalMember_Afghanistan</th>\n",
              "      <th>RegionalMember_Armenia</th>\n",
              "      <th>RegionalMember_Azerbaijan</th>\n",
              "      <th>RegionalMember_Bangladesh</th>\n",
              "      <th>RegionalMember_Bhutan</th>\n",
              "      <th>RegionalMember_Brunei Darussalam</th>\n",
              "      <th>RegionalMember_Cambodia</th>\n",
              "      <th>RegionalMember_Cook Islands</th>\n",
              "      <th>RegionalMember_Federated States of Micronesia</th>\n",
              "      <th>...</th>\n",
              "      <th>CountryCode_TJK</th>\n",
              "      <th>CountryCode_TKM</th>\n",
              "      <th>CountryCode_TLS</th>\n",
              "      <th>CountryCode_TON</th>\n",
              "      <th>CountryCode_TUV</th>\n",
              "      <th>CountryCode_TWN</th>\n",
              "      <th>CountryCode_UZB</th>\n",
              "      <th>CountryCode_VNM</th>\n",
              "      <th>CountryCode_VUT</th>\n",
              "      <th>CountryCode_WSM</th>\n",
              "    </tr>\n",
              "  </thead>\n",
              "  <tbody>\n",
              "    <tr>\n",
              "      <th>179</th>\n",
              "      <td>46.4</td>\n",
              "      <td>0</td>\n",
              "      <td>0</td>\n",
              "      <td>0</td>\n",
              "      <td>0</td>\n",
              "      <td>0</td>\n",
              "      <td>0</td>\n",
              "      <td>0</td>\n",
              "      <td>0</td>\n",
              "      <td>0</td>\n",
              "      <td>...</td>\n",
              "      <td>0</td>\n",
              "      <td>0</td>\n",
              "      <td>0</td>\n",
              "      <td>0</td>\n",
              "      <td>0</td>\n",
              "      <td>0</td>\n",
              "      <td>0</td>\n",
              "      <td>0</td>\n",
              "      <td>0</td>\n",
              "      <td>0</td>\n",
              "    </tr>\n",
              "    <tr>\n",
              "      <th>173</th>\n",
              "      <td>27.5</td>\n",
              "      <td>0</td>\n",
              "      <td>0</td>\n",
              "      <td>0</td>\n",
              "      <td>0</td>\n",
              "      <td>0</td>\n",
              "      <td>0</td>\n",
              "      <td>0</td>\n",
              "      <td>0</td>\n",
              "      <td>0</td>\n",
              "      <td>...</td>\n",
              "      <td>0</td>\n",
              "      <td>0</td>\n",
              "      <td>0</td>\n",
              "      <td>0</td>\n",
              "      <td>0</td>\n",
              "      <td>0</td>\n",
              "      <td>0</td>\n",
              "      <td>0</td>\n",
              "      <td>0</td>\n",
              "      <td>0</td>\n",
              "    </tr>\n",
              "  </tbody>\n",
              "</table>\n",
              "<p>2 rows × 105 columns</p>\n",
              "</div>\n",
              "      <button class=\"colab-df-convert\" onclick=\"convertToInteractive('df-774d53eb-a239-49da-bf57-8f30f945e66a')\"\n",
              "              title=\"Convert this dataframe to an interactive table.\"\n",
              "              style=\"display:none;\">\n",
              "        \n",
              "  <svg xmlns=\"http://www.w3.org/2000/svg\" height=\"24px\"viewBox=\"0 0 24 24\"\n",
              "       width=\"24px\">\n",
              "    <path d=\"M0 0h24v24H0V0z\" fill=\"none\"/>\n",
              "    <path d=\"M18.56 5.44l.94 2.06.94-2.06 2.06-.94-2.06-.94-.94-2.06-.94 2.06-2.06.94zm-11 1L8.5 8.5l.94-2.06 2.06-.94-2.06-.94L8.5 2.5l-.94 2.06-2.06.94zm10 10l.94 2.06.94-2.06 2.06-.94-2.06-.94-.94-2.06-.94 2.06-2.06.94z\"/><path d=\"M17.41 7.96l-1.37-1.37c-.4-.4-.92-.59-1.43-.59-.52 0-1.04.2-1.43.59L10.3 9.45l-7.72 7.72c-.78.78-.78 2.05 0 2.83L4 21.41c.39.39.9.59 1.41.59.51 0 1.02-.2 1.41-.59l7.78-7.78 2.81-2.81c.8-.78.8-2.07 0-2.86zM5.41 20L4 18.59l7.72-7.72 1.47 1.35L5.41 20z\"/>\n",
              "  </svg>\n",
              "      </button>\n",
              "      \n",
              "  <style>\n",
              "    .colab-df-container {\n",
              "      display:flex;\n",
              "      flex-wrap:wrap;\n",
              "      gap: 12px;\n",
              "    }\n",
              "\n",
              "    .colab-df-convert {\n",
              "      background-color: #E8F0FE;\n",
              "      border: none;\n",
              "      border-radius: 50%;\n",
              "      cursor: pointer;\n",
              "      display: none;\n",
              "      fill: #1967D2;\n",
              "      height: 32px;\n",
              "      padding: 0 0 0 0;\n",
              "      width: 32px;\n",
              "    }\n",
              "\n",
              "    .colab-df-convert:hover {\n",
              "      background-color: #E2EBFA;\n",
              "      box-shadow: 0px 1px 2px rgba(60, 64, 67, 0.3), 0px 1px 3px 1px rgba(60, 64, 67, 0.15);\n",
              "      fill: #174EA6;\n",
              "    }\n",
              "\n",
              "    [theme=dark] .colab-df-convert {\n",
              "      background-color: #3B4455;\n",
              "      fill: #D2E3FC;\n",
              "    }\n",
              "\n",
              "    [theme=dark] .colab-df-convert:hover {\n",
              "      background-color: #434B5C;\n",
              "      box-shadow: 0px 1px 3px 1px rgba(0, 0, 0, 0.15);\n",
              "      filter: drop-shadow(0px 1px 2px rgba(0, 0, 0, 0.3));\n",
              "      fill: #FFFFFF;\n",
              "    }\n",
              "  </style>\n",
              "\n",
              "      <script>\n",
              "        const buttonEl =\n",
              "          document.querySelector('#df-774d53eb-a239-49da-bf57-8f30f945e66a button.colab-df-convert');\n",
              "        buttonEl.style.display =\n",
              "          google.colab.kernel.accessAllowed ? 'block' : 'none';\n",
              "\n",
              "        async function convertToInteractive(key) {\n",
              "          const element = document.querySelector('#df-774d53eb-a239-49da-bf57-8f30f945e66a');\n",
              "          const dataTable =\n",
              "            await google.colab.kernel.invokeFunction('convertToInteractive',\n",
              "                                                     [key], {});\n",
              "          if (!dataTable) return;\n",
              "\n",
              "          const docLinkHtml = 'Like what you see? Visit the ' +\n",
              "            '<a target=\"_blank\" href=https://colab.research.google.com/notebooks/data_table.ipynb>data table notebook</a>'\n",
              "            + ' to learn more about interactive tables.';\n",
              "          element.innerHTML = '';\n",
              "          dataTable['output_type'] = 'display_data';\n",
              "          await google.colab.output.renderOutput(dataTable, element);\n",
              "          const docLink = document.createElement('div');\n",
              "          docLink.innerHTML = docLinkHtml;\n",
              "          element.appendChild(docLink);\n",
              "        }\n",
              "      </script>\n",
              "    </div>\n",
              "  </div>\n",
              "  "
            ]
          },
          "metadata": {},
          "execution_count": 36
        }
      ]
    },
    {
      "cell_type": "code",
      "source": [
        "#Create train from non_missing values\n",
        "X_train = data_without_nan.drop('Inflation',axis=1)\n",
        "y_train = data_without_nan[\"Inflation\"]"
      ],
      "metadata": {
        "id": "67gXiPuzLl7Q"
      },
      "execution_count": 37,
      "outputs": []
    },
    {
      "cell_type": "code",
      "source": [
        "xx_train = X_train.iloc[1:6]\n",
        "yy_train = y_train.iloc[1:6]"
      ],
      "metadata": {
        "id": "ovMFmGI6clTj"
      },
      "execution_count": 38,
      "outputs": []
    },
    {
      "cell_type": "code",
      "source": [
        "type(xx_train)"
      ],
      "metadata": {
        "colab": {
          "base_uri": "https://localhost:8080/"
        },
        "id": "EUw9JUH9j0q5",
        "outputId": "d11173ff-7424-446e-e420-b6d5f7ed4a56"
      },
      "execution_count": 39,
      "outputs": [
        {
          "output_type": "execute_result",
          "data": {
            "text/plain": [
              "pandas.core.frame.DataFrame"
            ]
          },
          "metadata": {},
          "execution_count": 39
        }
      ]
    },
    {
      "cell_type": "code",
      "source": [
        "xx_train"
      ],
      "metadata": {
        "id": "kOUEH59pdYf7",
        "outputId": "025b0b94-782b-4eee-e13b-b580f5e5c360",
        "colab": {
          "base_uri": "https://localhost:8080/",
          "height": 317
        }
      },
      "execution_count": 40,
      "outputs": [
        {
          "output_type": "execute_result",
          "data": {
            "text/plain": [
              "     RegionalMember_Afghanistan  RegionalMember_Armenia  \\\n",
              "173                           0                       0   \n",
              "180                           0                       0   \n",
              "214                           0                       0   \n",
              "70                            0                       0   \n",
              "228                           0                       0   \n",
              "\n",
              "     RegionalMember_Azerbaijan  RegionalMember_Bangladesh  \\\n",
              "173                          0                          0   \n",
              "180                          0                          0   \n",
              "214                          0                          0   \n",
              "70                           0                          0   \n",
              "228                          0                          0   \n",
              "\n",
              "     RegionalMember_Bhutan  RegionalMember_Brunei Darussalam  \\\n",
              "173                      0                                 0   \n",
              "180                      0                                 0   \n",
              "214                      0                                 0   \n",
              "70                       0                                 0   \n",
              "228                      0                                 0   \n",
              "\n",
              "     RegionalMember_Cambodia  RegionalMember_Cook Islands  \\\n",
              "173                        0                            0   \n",
              "180                        0                            0   \n",
              "214                        0                            0   \n",
              "70                         0                            0   \n",
              "228                        0                            0   \n",
              "\n",
              "     RegionalMember_Federated States of Micronesia  RegionalMember_Fiji  ...  \\\n",
              "173                                              0                    0  ...   \n",
              "180                                              0                    0  ...   \n",
              "214                                              0                    0  ...   \n",
              "70                                               0                    0  ...   \n",
              "228                                              0                    0  ...   \n",
              "\n",
              "     CountryCode_TJK  CountryCode_TKM  CountryCode_TLS  CountryCode_TON  \\\n",
              "173                0                0                0                0   \n",
              "180                0                0                0                0   \n",
              "214                0                0                0                0   \n",
              "70                 0                0                0                0   \n",
              "228                0                0                0                0   \n",
              "\n",
              "     CountryCode_TUV  CountryCode_TWN  CountryCode_UZB  CountryCode_VNM  \\\n",
              "173                0                0                0                0   \n",
              "180                0                0                0                0   \n",
              "214                0                0                0                0   \n",
              "70                 0                0                1                0   \n",
              "228                0                0                0                0   \n",
              "\n",
              "     CountryCode_VUT  CountryCode_WSM  \n",
              "173                0                0  \n",
              "180                0                0  \n",
              "214                0                0  \n",
              "70                 0                0  \n",
              "228                0                0  \n",
              "\n",
              "[5 rows x 104 columns]"
            ],
            "text/html": [
              "\n",
              "  <div id=\"df-5deeec69-1ab7-4b12-8132-8ddbe57bf7ac\">\n",
              "    <div class=\"colab-df-container\">\n",
              "      <div>\n",
              "<style scoped>\n",
              "    .dataframe tbody tr th:only-of-type {\n",
              "        vertical-align: middle;\n",
              "    }\n",
              "\n",
              "    .dataframe tbody tr th {\n",
              "        vertical-align: top;\n",
              "    }\n",
              "\n",
              "    .dataframe thead th {\n",
              "        text-align: right;\n",
              "    }\n",
              "</style>\n",
              "<table border=\"1\" class=\"dataframe\">\n",
              "  <thead>\n",
              "    <tr style=\"text-align: right;\">\n",
              "      <th></th>\n",
              "      <th>RegionalMember_Afghanistan</th>\n",
              "      <th>RegionalMember_Armenia</th>\n",
              "      <th>RegionalMember_Azerbaijan</th>\n",
              "      <th>RegionalMember_Bangladesh</th>\n",
              "      <th>RegionalMember_Bhutan</th>\n",
              "      <th>RegionalMember_Brunei Darussalam</th>\n",
              "      <th>RegionalMember_Cambodia</th>\n",
              "      <th>RegionalMember_Cook Islands</th>\n",
              "      <th>RegionalMember_Federated States of Micronesia</th>\n",
              "      <th>RegionalMember_Fiji</th>\n",
              "      <th>...</th>\n",
              "      <th>CountryCode_TJK</th>\n",
              "      <th>CountryCode_TKM</th>\n",
              "      <th>CountryCode_TLS</th>\n",
              "      <th>CountryCode_TON</th>\n",
              "      <th>CountryCode_TUV</th>\n",
              "      <th>CountryCode_TWN</th>\n",
              "      <th>CountryCode_UZB</th>\n",
              "      <th>CountryCode_VNM</th>\n",
              "      <th>CountryCode_VUT</th>\n",
              "      <th>CountryCode_WSM</th>\n",
              "    </tr>\n",
              "  </thead>\n",
              "  <tbody>\n",
              "    <tr>\n",
              "      <th>173</th>\n",
              "      <td>0</td>\n",
              "      <td>0</td>\n",
              "      <td>0</td>\n",
              "      <td>0</td>\n",
              "      <td>0</td>\n",
              "      <td>0</td>\n",
              "      <td>0</td>\n",
              "      <td>0</td>\n",
              "      <td>0</td>\n",
              "      <td>0</td>\n",
              "      <td>...</td>\n",
              "      <td>0</td>\n",
              "      <td>0</td>\n",
              "      <td>0</td>\n",
              "      <td>0</td>\n",
              "      <td>0</td>\n",
              "      <td>0</td>\n",
              "      <td>0</td>\n",
              "      <td>0</td>\n",
              "      <td>0</td>\n",
              "      <td>0</td>\n",
              "    </tr>\n",
              "    <tr>\n",
              "      <th>180</th>\n",
              "      <td>0</td>\n",
              "      <td>0</td>\n",
              "      <td>0</td>\n",
              "      <td>0</td>\n",
              "      <td>0</td>\n",
              "      <td>0</td>\n",
              "      <td>0</td>\n",
              "      <td>0</td>\n",
              "      <td>0</td>\n",
              "      <td>0</td>\n",
              "      <td>...</td>\n",
              "      <td>0</td>\n",
              "      <td>0</td>\n",
              "      <td>0</td>\n",
              "      <td>0</td>\n",
              "      <td>0</td>\n",
              "      <td>0</td>\n",
              "      <td>0</td>\n",
              "      <td>0</td>\n",
              "      <td>0</td>\n",
              "      <td>0</td>\n",
              "    </tr>\n",
              "    <tr>\n",
              "      <th>214</th>\n",
              "      <td>0</td>\n",
              "      <td>0</td>\n",
              "      <td>0</td>\n",
              "      <td>0</td>\n",
              "      <td>0</td>\n",
              "      <td>0</td>\n",
              "      <td>0</td>\n",
              "      <td>0</td>\n",
              "      <td>0</td>\n",
              "      <td>0</td>\n",
              "      <td>...</td>\n",
              "      <td>0</td>\n",
              "      <td>0</td>\n",
              "      <td>0</td>\n",
              "      <td>0</td>\n",
              "      <td>0</td>\n",
              "      <td>0</td>\n",
              "      <td>0</td>\n",
              "      <td>0</td>\n",
              "      <td>0</td>\n",
              "      <td>0</td>\n",
              "    </tr>\n",
              "    <tr>\n",
              "      <th>70</th>\n",
              "      <td>0</td>\n",
              "      <td>0</td>\n",
              "      <td>0</td>\n",
              "      <td>0</td>\n",
              "      <td>0</td>\n",
              "      <td>0</td>\n",
              "      <td>0</td>\n",
              "      <td>0</td>\n",
              "      <td>0</td>\n",
              "      <td>0</td>\n",
              "      <td>...</td>\n",
              "      <td>0</td>\n",
              "      <td>0</td>\n",
              "      <td>0</td>\n",
              "      <td>0</td>\n",
              "      <td>0</td>\n",
              "      <td>0</td>\n",
              "      <td>1</td>\n",
              "      <td>0</td>\n",
              "      <td>0</td>\n",
              "      <td>0</td>\n",
              "    </tr>\n",
              "    <tr>\n",
              "      <th>228</th>\n",
              "      <td>0</td>\n",
              "      <td>0</td>\n",
              "      <td>0</td>\n",
              "      <td>0</td>\n",
              "      <td>0</td>\n",
              "      <td>0</td>\n",
              "      <td>0</td>\n",
              "      <td>0</td>\n",
              "      <td>0</td>\n",
              "      <td>0</td>\n",
              "      <td>...</td>\n",
              "      <td>0</td>\n",
              "      <td>0</td>\n",
              "      <td>0</td>\n",
              "      <td>0</td>\n",
              "      <td>0</td>\n",
              "      <td>0</td>\n",
              "      <td>0</td>\n",
              "      <td>0</td>\n",
              "      <td>0</td>\n",
              "      <td>0</td>\n",
              "    </tr>\n",
              "  </tbody>\n",
              "</table>\n",
              "<p>5 rows × 104 columns</p>\n",
              "</div>\n",
              "      <button class=\"colab-df-convert\" onclick=\"convertToInteractive('df-5deeec69-1ab7-4b12-8132-8ddbe57bf7ac')\"\n",
              "              title=\"Convert this dataframe to an interactive table.\"\n",
              "              style=\"display:none;\">\n",
              "        \n",
              "  <svg xmlns=\"http://www.w3.org/2000/svg\" height=\"24px\"viewBox=\"0 0 24 24\"\n",
              "       width=\"24px\">\n",
              "    <path d=\"M0 0h24v24H0V0z\" fill=\"none\"/>\n",
              "    <path d=\"M18.56 5.44l.94 2.06.94-2.06 2.06-.94-2.06-.94-.94-2.06-.94 2.06-2.06.94zm-11 1L8.5 8.5l.94-2.06 2.06-.94-2.06-.94L8.5 2.5l-.94 2.06-2.06.94zm10 10l.94 2.06.94-2.06 2.06-.94-2.06-.94-.94-2.06-.94 2.06-2.06.94z\"/><path d=\"M17.41 7.96l-1.37-1.37c-.4-.4-.92-.59-1.43-.59-.52 0-1.04.2-1.43.59L10.3 9.45l-7.72 7.72c-.78.78-.78 2.05 0 2.83L4 21.41c.39.39.9.59 1.41.59.51 0 1.02-.2 1.41-.59l7.78-7.78 2.81-2.81c.8-.78.8-2.07 0-2.86zM5.41 20L4 18.59l7.72-7.72 1.47 1.35L5.41 20z\"/>\n",
              "  </svg>\n",
              "      </button>\n",
              "      \n",
              "  <style>\n",
              "    .colab-df-container {\n",
              "      display:flex;\n",
              "      flex-wrap:wrap;\n",
              "      gap: 12px;\n",
              "    }\n",
              "\n",
              "    .colab-df-convert {\n",
              "      background-color: #E8F0FE;\n",
              "      border: none;\n",
              "      border-radius: 50%;\n",
              "      cursor: pointer;\n",
              "      display: none;\n",
              "      fill: #1967D2;\n",
              "      height: 32px;\n",
              "      padding: 0 0 0 0;\n",
              "      width: 32px;\n",
              "    }\n",
              "\n",
              "    .colab-df-convert:hover {\n",
              "      background-color: #E2EBFA;\n",
              "      box-shadow: 0px 1px 2px rgba(60, 64, 67, 0.3), 0px 1px 3px 1px rgba(60, 64, 67, 0.15);\n",
              "      fill: #174EA6;\n",
              "    }\n",
              "\n",
              "    [theme=dark] .colab-df-convert {\n",
              "      background-color: #3B4455;\n",
              "      fill: #D2E3FC;\n",
              "    }\n",
              "\n",
              "    [theme=dark] .colab-df-convert:hover {\n",
              "      background-color: #434B5C;\n",
              "      box-shadow: 0px 1px 3px 1px rgba(0, 0, 0, 0.15);\n",
              "      filter: drop-shadow(0px 1px 2px rgba(0, 0, 0, 0.3));\n",
              "      fill: #FFFFFF;\n",
              "    }\n",
              "  </style>\n",
              "\n",
              "      <script>\n",
              "        const buttonEl =\n",
              "          document.querySelector('#df-5deeec69-1ab7-4b12-8132-8ddbe57bf7ac button.colab-df-convert');\n",
              "        buttonEl.style.display =\n",
              "          google.colab.kernel.accessAllowed ? 'block' : 'none';\n",
              "\n",
              "        async function convertToInteractive(key) {\n",
              "          const element = document.querySelector('#df-5deeec69-1ab7-4b12-8132-8ddbe57bf7ac');\n",
              "          const dataTable =\n",
              "            await google.colab.kernel.invokeFunction('convertToInteractive',\n",
              "                                                     [key], {});\n",
              "          if (!dataTable) return;\n",
              "\n",
              "          const docLinkHtml = 'Like what you see? Visit the ' +\n",
              "            '<a target=\"_blank\" href=https://colab.research.google.com/notebooks/data_table.ipynb>data table notebook</a>'\n",
              "            + ' to learn more about interactive tables.';\n",
              "          element.innerHTML = '';\n",
              "          dataTable['output_type'] = 'display_data';\n",
              "          await google.colab.output.renderOutput(dataTable, element);\n",
              "          const docLink = document.createElement('div');\n",
              "          docLink.innerHTML = docLinkHtml;\n",
              "          element.appendChild(docLink);\n",
              "        }\n",
              "      </script>\n",
              "    </div>\n",
              "  </div>\n",
              "  "
            ]
          },
          "metadata": {},
          "execution_count": 40
        }
      ]
    },
    {
      "cell_type": "code",
      "source": [
        "X_train = X_train.values\n",
        "y_train = y_train.values\n",
        "xx_train = xx_train.values\n",
        "yy_train = yy_train.values"
      ],
      "metadata": {
        "id": "B1Y6wiqXpR1X"
      },
      "execution_count": 41,
      "outputs": []
    },
    {
      "cell_type": "code",
      "source": [
        "type(X_train)"
      ],
      "metadata": {
        "colab": {
          "base_uri": "https://localhost:8080/"
        },
        "id": "P0hjozPfkQ9V",
        "outputId": "7c319d2a-1081-4219-9494-d6b113aeeec3"
      },
      "execution_count": 42,
      "outputs": [
        {
          "output_type": "execute_result",
          "data": {
            "text/plain": [
              "numpy.ndarray"
            ]
          },
          "metadata": {},
          "execution_count": 42
        }
      ]
    },
    {
      "cell_type": "code",
      "source": [
        "X_train"
      ],
      "metadata": {
        "colab": {
          "base_uri": "https://localhost:8080/"
        },
        "id": "aHYMLzj4-Emd",
        "outputId": "6e2de6ec-3652-4d2e-ba39-1cfdeff75b25"
      },
      "execution_count": 43,
      "outputs": [
        {
          "output_type": "execute_result",
          "data": {
            "text/plain": [
              "array([[0, 0, 0, ..., 0, 0, 0],\n",
              "       [0, 0, 0, ..., 0, 0, 0],\n",
              "       [0, 0, 0, ..., 0, 0, 0],\n",
              "       ...,\n",
              "       [0, 0, 0, ..., 0, 0, 1],\n",
              "       [0, 0, 0, ..., 0, 0, 0],\n",
              "       [0, 0, 0, ..., 0, 0, 0]], dtype=uint8)"
            ]
          },
          "metadata": {},
          "execution_count": 43
        }
      ]
    },
    {
      "cell_type": "markdown",
      "source": [
        "Using RandomForest Regressor\n"
      ],
      "metadata": {
        "id": "fNPDDjN7y1st"
      }
    },
    {
      "cell_type": "code",
      "source": [
        "from sklearn.ensemble import RandomForestRegressor"
      ],
      "metadata": {
        "id": "WJc5ScPQuy0c"
      },
      "execution_count": 44,
      "outputs": []
    },
    {
      "cell_type": "code",
      "source": [
        "rf = RandomForestRegressor(n_estimators = 1000, random_state = 42,min_sample_split = 2)\n",
        "rf.fit(X_train, y_train)"
      ],
      "metadata": {
        "colab": {
          "base_uri": "https://localhost:8080/",
          "height": 75
        },
        "id": "Cs07Tf3lu2Ab",
        "outputId": "9e343eb4-16a3-41cc-af23-dc7829360dfd"
      },
      "execution_count": 113,
      "outputs": [
        {
          "output_type": "execute_result",
          "data": {
            "text/plain": [
              "RandomForestRegressor(n_estimators=1000, random_state=42)"
            ],
            "text/html": [
              "<style>#sk-container-id-7 {color: black;background-color: white;}#sk-container-id-7 pre{padding: 0;}#sk-container-id-7 div.sk-toggleable {background-color: white;}#sk-container-id-7 label.sk-toggleable__label {cursor: pointer;display: block;width: 100%;margin-bottom: 0;padding: 0.3em;box-sizing: border-box;text-align: center;}#sk-container-id-7 label.sk-toggleable__label-arrow:before {content: \"▸\";float: left;margin-right: 0.25em;color: #696969;}#sk-container-id-7 label.sk-toggleable__label-arrow:hover:before {color: black;}#sk-container-id-7 div.sk-estimator:hover label.sk-toggleable__label-arrow:before {color: black;}#sk-container-id-7 div.sk-toggleable__content {max-height: 0;max-width: 0;overflow: hidden;text-align: left;background-color: #f0f8ff;}#sk-container-id-7 div.sk-toggleable__content pre {margin: 0.2em;color: black;border-radius: 0.25em;background-color: #f0f8ff;}#sk-container-id-7 input.sk-toggleable__control:checked~div.sk-toggleable__content {max-height: 200px;max-width: 100%;overflow: auto;}#sk-container-id-7 input.sk-toggleable__control:checked~label.sk-toggleable__label-arrow:before {content: \"▾\";}#sk-container-id-7 div.sk-estimator input.sk-toggleable__control:checked~label.sk-toggleable__label {background-color: #d4ebff;}#sk-container-id-7 div.sk-label input.sk-toggleable__control:checked~label.sk-toggleable__label {background-color: #d4ebff;}#sk-container-id-7 input.sk-hidden--visually {border: 0;clip: rect(1px 1px 1px 1px);clip: rect(1px, 1px, 1px, 1px);height: 1px;margin: -1px;overflow: hidden;padding: 0;position: absolute;width: 1px;}#sk-container-id-7 div.sk-estimator {font-family: monospace;background-color: #f0f8ff;border: 1px dotted black;border-radius: 0.25em;box-sizing: border-box;margin-bottom: 0.5em;}#sk-container-id-7 div.sk-estimator:hover {background-color: #d4ebff;}#sk-container-id-7 div.sk-parallel-item::after {content: \"\";width: 100%;border-bottom: 1px solid gray;flex-grow: 1;}#sk-container-id-7 div.sk-label:hover label.sk-toggleable__label {background-color: #d4ebff;}#sk-container-id-7 div.sk-serial::before {content: \"\";position: absolute;border-left: 1px solid gray;box-sizing: border-box;top: 0;bottom: 0;left: 50%;z-index: 0;}#sk-container-id-7 div.sk-serial {display: flex;flex-direction: column;align-items: center;background-color: white;padding-right: 0.2em;padding-left: 0.2em;position: relative;}#sk-container-id-7 div.sk-item {position: relative;z-index: 1;}#sk-container-id-7 div.sk-parallel {display: flex;align-items: stretch;justify-content: center;background-color: white;position: relative;}#sk-container-id-7 div.sk-item::before, #sk-container-id-7 div.sk-parallel-item::before {content: \"\";position: absolute;border-left: 1px solid gray;box-sizing: border-box;top: 0;bottom: 0;left: 50%;z-index: -1;}#sk-container-id-7 div.sk-parallel-item {display: flex;flex-direction: column;z-index: 1;position: relative;background-color: white;}#sk-container-id-7 div.sk-parallel-item:first-child::after {align-self: flex-end;width: 50%;}#sk-container-id-7 div.sk-parallel-item:last-child::after {align-self: flex-start;width: 50%;}#sk-container-id-7 div.sk-parallel-item:only-child::after {width: 0;}#sk-container-id-7 div.sk-dashed-wrapped {border: 1px dashed gray;margin: 0 0.4em 0.5em 0.4em;box-sizing: border-box;padding-bottom: 0.4em;background-color: white;}#sk-container-id-7 div.sk-label label {font-family: monospace;font-weight: bold;display: inline-block;line-height: 1.2em;}#sk-container-id-7 div.sk-label-container {text-align: center;}#sk-container-id-7 div.sk-container {/* jupyter's `normalize.less` sets `[hidden] { display: none; }` but bootstrap.min.css set `[hidden] { display: none !important; }` so we also need the `!important` here to be able to override the default hidden behavior on the sphinx rendered scikit-learn.org. See: https://github.com/scikit-learn/scikit-learn/issues/21755 */display: inline-block !important;position: relative;}#sk-container-id-7 div.sk-text-repr-fallback {display: none;}</style><div id=\"sk-container-id-7\" class=\"sk-top-container\"><div class=\"sk-text-repr-fallback\"><pre>RandomForestRegressor(n_estimators=1000, random_state=42)</pre><b>In a Jupyter environment, please rerun this cell to show the HTML representation or trust the notebook. <br />On GitHub, the HTML representation is unable to render, please try loading this page with nbviewer.org.</b></div><div class=\"sk-container\" hidden><div class=\"sk-item\"><div class=\"sk-estimator sk-toggleable\"><input class=\"sk-toggleable__control sk-hidden--visually\" id=\"sk-estimator-id-7\" type=\"checkbox\" checked><label for=\"sk-estimator-id-7\" class=\"sk-toggleable__label sk-toggleable__label-arrow\">RandomForestRegressor</label><div class=\"sk-toggleable__content\"><pre>RandomForestRegressor(n_estimators=1000, random_state=42)</pre></div></div></div></div></div>"
            ]
          },
          "metadata": {},
          "execution_count": 113
        }
      ]
    },
    {
      "cell_type": "code",
      "source": [
        "print(len(X_train))\n",
        "print(X_train.shape)"
      ],
      "metadata": {
        "colab": {
          "base_uri": "https://localhost:8080/"
        },
        "id": "BjiJhzR-p_yE",
        "outputId": "85c01074-aa2e-48b6-ef93-5dc27fb31e16"
      },
      "execution_count": 46,
      "outputs": [
        {
          "output_type": "stream",
          "name": "stdout",
          "text": [
            "316\n",
            "(316, 104)\n"
          ]
        }
      ]
    },
    {
      "cell_type": "code",
      "source": [
        "# from sklearn import model_selection\n",
        "# import pickle\n",
        "# filename = \"testmodel.sav\"\n",
        "# pickle.dump(rf, open(filename, 'wb'))\n"
      ],
      "metadata": {
        "id": "pYLT36mXLcOj"
      },
      "execution_count": 47,
      "outputs": []
    },
    {
      "cell_type": "code",
      "source": [
        "#pickle.dump(rf, open('pklmodel.pkl', 'wb'))\n"
      ],
      "metadata": {
        "id": "Pw5rK0ZCL0Nm"
      },
      "execution_count": 48,
      "outputs": []
    },
    {
      "cell_type": "code",
      "source": [
        "#Create test from missing values\n",
        "x_test = data_with_nan.drop('Inflation',axis=1)\n",
        "# x_test.values"
      ],
      "metadata": {
        "id": "2GZhDr2DNSbe"
      },
      "execution_count": 49,
      "outputs": []
    },
    {
      "cell_type": "code",
      "source": [
        "Train_x = X_train.shape\n",
        "Train_y = y_train.shape\n",
        "print(\"X_train\",Train_x)\n",
        "print(\"y_train\",Train_y)\n",
        "test_x = x_test.shape\n",
        "print(\"X_test\",test_x)"
      ],
      "metadata": {
        "colab": {
          "base_uri": "https://localhost:8080/"
        },
        "id": "6gsppqIfRoem",
        "outputId": "3f8ee645-4808-49b2-c176-3e7afd8f8c58"
      },
      "execution_count": 50,
      "outputs": [
        {
          "output_type": "stream",
          "name": "stdout",
          "text": [
            "X_train (316, 104)\n",
            "y_train (316,)\n",
            "X_test (6, 104)\n"
          ]
        }
      ]
    },
    {
      "cell_type": "code",
      "source": [
        "type(X_train)"
      ],
      "metadata": {
        "colab": {
          "base_uri": "https://localhost:8080/"
        },
        "id": "_65j4ZcPlT-b",
        "outputId": "1c5e10af-b0a3-49e2-8150-8a0fb128aefc"
      },
      "execution_count": 51,
      "outputs": [
        {
          "output_type": "execute_result",
          "data": {
            "text/plain": [
              "numpy.ndarray"
            ]
          },
          "metadata": {},
          "execution_count": 51
        }
      ]
    },
    {
      "cell_type": "code",
      "source": [
        "predicted_values = rf.predict(xx_train)"
      ],
      "metadata": {
        "id": "jRyf_UQOu_XO"
      },
      "execution_count": 99,
      "outputs": []
    },
    {
      "cell_type": "code",
      "source": [
        "print(\"Predicted Values from RandomForest\",predicted_values)"
      ],
      "metadata": {
        "colab": {
          "base_uri": "https://localhost:8080/"
        },
        "id": "XGaKMv4wv-8u",
        "outputId": "36234011-905f-4b29-cc92-fd4a39b7f420"
      },
      "execution_count": 53,
      "outputs": [
        {
          "output_type": "stream",
          "name": "stdout",
          "text": [
            "Predicted Values from RandomForest [21.262 19.214 18.392 14.498 11.89 ]\n"
          ]
        }
      ]
    },
    {
      "cell_type": "code",
      "source": [
        "print(predicted_values)\n",
        "print(yy_train)"
      ],
      "metadata": {
        "id": "bu__YgUCXDrj",
        "colab": {
          "base_uri": "https://localhost:8080/"
        },
        "outputId": "df36e473-70ac-4f11-c149-298189a7dfae"
      },
      "execution_count": 100,
      "outputs": [
        {
          "output_type": "stream",
          "name": "stdout",
          "text": [
            "[20.9028 18.0008 16.5859 14.33   12.0011]\n",
            "[27.5 24.6 23.  17.5 16. ]\n"
          ]
        }
      ]
    },
    {
      "cell_type": "code",
      "source": [
        "# type(yy_train)\n",
        "type(predicted_values)"
      ],
      "metadata": {
        "colab": {
          "base_uri": "https://localhost:8080/"
        },
        "id": "bxIomRWUa7BV",
        "outputId": "0cfaff08-efbc-4e28-a703-bb17b63d6486"
      },
      "execution_count": 55,
      "outputs": [
        {
          "output_type": "execute_result",
          "data": {
            "text/plain": [
              "numpy.ndarray"
            ]
          },
          "metadata": {},
          "execution_count": 55
        }
      ]
    },
    {
      "cell_type": "code",
      "source": [
        "#Predicting single values from a model\n",
        "single_test = [[\"Georgia\",\"2020\",\"Central Asia\",\"GEO\"]]\n",
        "single_test = pd.DataFrame(single_test)\n",
        "#Increase shape\n",
        "desired_shape = (1,104)\n",
        "# Check if the desired shape is larger than the initial shape\n",
        "if desired_shape[1] > single_test.shape[1]:\n",
        "    # Calculate the number of additional columns needed\n",
        "    num_additional_columns = desired_shape[1] - single_test.shape[1]\n",
        "    \n",
        "    # Create a new array with the desired shape, filled with zeros\n",
        "    expanded_array = np.pad(single_test, ((0, 0), (0, num_additional_columns)), mode='constant')\n",
        "\n",
        "    # Verify the new shape\n",
        "    print(\"Expanded array shape:\", expanded_array.shape)\n",
        "    # print(expanded_array)"
      ],
      "metadata": {
        "colab": {
          "base_uri": "https://localhost:8080/"
        },
        "id": "koaWYJrZic1i",
        "outputId": "1f8c8144-f243-43aa-e9ff-9667e52bdf08"
      },
      "execution_count": 105,
      "outputs": [
        {
          "output_type": "stream",
          "name": "stdout",
          "text": [
            "Expanded array shape: (1, 104)\n"
          ]
        }
      ]
    },
    {
      "cell_type": "code",
      "source": [
        "#One hot encoding to a dataframe\n",
        "\n",
        "expanded_array_df = pd.DataFrame(expanded_array)\n",
        "encoded_single = pd.get_dummies(expanded_array_df)"
      ],
      "metadata": {
        "id": "xRDCUber-Bv5"
      },
      "execution_count": 106,
      "outputs": []
    },
    {
      "cell_type": "code",
      "source": [
        "encoded_single = encoded_single.values"
      ],
      "metadata": {
        "id": "2iGHS4L3BAWo"
      },
      "execution_count": 107,
      "outputs": []
    },
    {
      "cell_type": "code",
      "source": [
        "#Predict test a model\n",
        "predice = rf.predict(encoded_single)\n",
        "print(predice)"
      ],
      "metadata": {
        "colab": {
          "base_uri": "https://localhost:8080/",
          "height": 200
        },
        "id": "RIllI45WmLjC",
        "outputId": "85036a03-6770-443d-9eda-24b4d2b45896"
      },
      "execution_count": 110,
      "outputs": [
        {
          "output_type": "error",
          "ename": "TypeError",
          "evalue": "ignored",
          "traceback": [
            "\u001b[0;31m---------------------------------------------------------------------------\u001b[0m",
            "\u001b[0;31mTypeError\u001b[0m                                 Traceback (most recent call last)",
            "\u001b[0;32m<ipython-input-110-1d67bcbb5336>\u001b[0m in \u001b[0;36m<cell line: 2>\u001b[0;34m()\u001b[0m\n\u001b[1;32m      1\u001b[0m \u001b[0;31m#Predict test a model\u001b[0m\u001b[0;34m\u001b[0m\u001b[0;34m\u001b[0m\u001b[0m\n\u001b[0;32m----> 2\u001b[0;31m \u001b[0mpredice\u001b[0m \u001b[0;34m=\u001b[0m \u001b[0mrf\u001b[0m\u001b[0;34m.\u001b[0m\u001b[0mpredict\u001b[0m\u001b[0;34m(\u001b[0m\u001b[0mencoded_single\u001b[0m\u001b[0;34m,\u001b[0m\u001b[0mtype\u001b[0m\u001b[0;34m=\u001b[0m\u001b[0;34m\"prob\"\u001b[0m\u001b[0;34m)\u001b[0m\u001b[0;34m\u001b[0m\u001b[0;34m\u001b[0m\u001b[0m\n\u001b[0m\u001b[1;32m      3\u001b[0m \u001b[0mprint\u001b[0m\u001b[0;34m(\u001b[0m\u001b[0mpredice\u001b[0m\u001b[0;34m)\u001b[0m\u001b[0;34m\u001b[0m\u001b[0;34m\u001b[0m\u001b[0m\n",
            "\u001b[0;31mTypeError\u001b[0m: ForestRegressor.predict() got an unexpected keyword argument 'type'"
          ]
        }
      ]
    },
    {
      "cell_type": "code",
      "source": [
        "print(encoded_single)"
      ],
      "metadata": {
        "colab": {
          "base_uri": "https://localhost:8080/"
        },
        "id": "qDxBeTX_Akg5",
        "outputId": "d28b7c0d-67a6-4ef2-f7b3-06e042c198d0"
      },
      "execution_count": 60,
      "outputs": [
        {
          "output_type": "stream",
          "name": "stdout",
          "text": [
            "[[1 1 1 1 1 1 1 1 1 1 1 1 1 1 1 1 1 1 1 1 1 1 1 1 1 1 1 1 1 1 1 1 1 1 1 1\n",
            "  1 1 1 1 1 1 1 1 1 1 1 1 1 1 1 1 1 1 1 1 1 1 1 1 1 1 1 1 1 1 1 1 1 1 1 1\n",
            "  1 1 1 1 1 1 1 1 1 1 1 1 1 1 1 1 1 1 1 1 1 1 1 1 1 1 1 1 1 1 1 1]]\n"
          ]
        }
      ]
    },
    {
      "cell_type": "markdown",
      "source": [
        "**Graph Plot between original and predicted**"
      ],
      "metadata": {
        "id": "iLBu89bSkRGo"
      }
    },
    {
      "cell_type": "code",
      "source": [
        "\n",
        "import sklearn.metrics as metrics\n",
        "import matplotlib.pyplot as plt\n",
        "y = np.array(predicted_values)\n",
        "yhat = np.array(yy_train)\n",
        "x = list(range(len(y)))\n",
        "\n",
        "plt.plot(x, y, color=\"blue\", label=\"original\")\n",
        "plt.plot(x, yhat, color=\"red\", label=\"predicted\")\n",
        "plt.legend()\n",
        "plt.show() "
      ],
      "metadata": {
        "id": "KiJmbGPLcXL2",
        "colab": {
          "base_uri": "https://localhost:8080/",
          "height": 430
        },
        "outputId": "77aed010-fc6f-4d90-c997-ad487403bb0e"
      },
      "execution_count": 61,
      "outputs": [
        {
          "output_type": "display_data",
          "data": {
            "text/plain": [
              "<Figure size 640x480 with 1 Axes>"
            ],
            "image/png": "[encoded data removed]"
          },
          "metadata": {}
        }
      ]
    },
    {
      "cell_type": "code",
      "source": [
        "from sklearn.metrics import mean_absolute_error\n",
        "from sklearn.metrics import mean_squared_error\n",
        "from sklearn.metrics import mean_absolute_percentage_error\n",
        "mape = mean_absolute_percentage_error(yhat,y)\n",
        "rmse = mean_squared_error(yhat,y, squared=False)\n",
        "print(\"Mean Square Error\",rmse)\n",
        "print(\"Mean absolute percentage error\",mape)\n",
        "print(\"Mean Absolute Error\",mean_absolute_error(yy_train,predicted_values))"
      ],
      "metadata": {
        "id": "EzP2bD9TdxDa",
        "colab": {
          "base_uri": "https://localhost:8080/"
        },
        "outputId": "204be0f2-4283-4dba-92af-89564f0319c3"
      },
      "execution_count": 62,
      "outputs": [
        {
          "output_type": "stream",
          "name": "stdout",
          "text": [
            "Mean Square Error 4.797070105804164\n",
            "Mean absolute percentage error 0.21490902725941421\n",
            "Mean Absolute Error 4.668799999999997\n"
          ]
        }
      ]
    },
    {
      "cell_type": "markdown",
      "source": [
        "Using Linear Regression"
      ],
      "metadata": {
        "id": "z_6Gxh41zAkw"
      }
    },
    {
      "cell_type": "code",
      "source": [
        "from sklearn.linear_model import LinearRegression\n",
        "lr = LinearRegression()"
      ],
      "metadata": {
        "id": "0sZwmqYYMOlT"
      },
      "execution_count": 63,
      "outputs": []
    },
    {
      "cell_type": "code",
      "source": [
        "lr.fit(X_train,y_train)"
      ],
      "metadata": {
        "id": "sG3sD3HfMh5U",
        "colab": {
          "base_uri": "https://localhost:8080/",
          "height": 75
        },
        "outputId": "42f0fb0a-7095-4c74-ea8b-4026365063a0"
      },
      "execution_count": 64,
      "outputs": [
        {
          "output_type": "execute_result",
          "data": {
            "text/plain": [
              "LinearRegression()"
            ],
            "text/html": [
              "<style>#sk-container-id-2 {color: black;background-color: white;}#sk-container-id-2 pre{padding: 0;}#sk-container-id-2 div.sk-toggleable {background-color: white;}#sk-container-id-2 label.sk-toggleable__label {cursor: pointer;display: block;width: 100%;margin-bottom: 0;padding: 0.3em;box-sizing: border-box;text-align: center;}#sk-container-id-2 label.sk-toggleable__label-arrow:before {content: \"▸\";float: left;margin-right: 0.25em;color: #696969;}#sk-container-id-2 label.sk-toggleable__label-arrow:hover:before {color: black;}#sk-container-id-2 div.sk-estimator:hover label.sk-toggleable__label-arrow:before {color: black;}#sk-container-id-2 div.sk-toggleable__content {max-height: 0;max-width: 0;overflow: hidden;text-align: left;background-color: #f0f8ff;}#sk-container-id-2 div.sk-toggleable__content pre {margin: 0.2em;color: black;border-radius: 0.25em;background-color: #f0f8ff;}#sk-container-id-2 input.sk-toggleable__control:checked~div.sk-toggleable__content {max-height: 200px;max-width: 100%;overflow: auto;}#sk-container-id-2 input.sk-toggleable__control:checked~label.sk-toggleable__label-arrow:before {content: \"▾\";}#sk-container-id-2 div.sk-estimator input.sk-toggleable__control:checked~label.sk-toggleable__label {background-color: #d4ebff;}#sk-container-id-2 div.sk-label input.sk-toggleable__control:checked~label.sk-toggleable__label {background-color: #d4ebff;}#sk-container-id-2 input.sk-hidden--visually {border: 0;clip: rect(1px 1px 1px 1px);clip: rect(1px, 1px, 1px, 1px);height: 1px;margin: -1px;overflow: hidden;padding: 0;position: absolute;width: 1px;}#sk-container-id-2 div.sk-estimator {font-family: monospace;background-color: #f0f8ff;border: 1px dotted black;border-radius: 0.25em;box-sizing: border-box;margin-bottom: 0.5em;}#sk-container-id-2 div.sk-estimator:hover {background-color: #d4ebff;}#sk-container-id-2 div.sk-parallel-item::after {content: \"\";width: 100%;border-bottom: 1px solid gray;flex-grow: 1;}#sk-container-id-2 div.sk-label:hover label.sk-toggleable__label {background-color: #d4ebff;}#sk-container-id-2 div.sk-serial::before {content: \"\";position: absolute;border-left: 1px solid gray;box-sizing: border-box;top: 0;bottom: 0;left: 50%;z-index: 0;}#sk-container-id-2 div.sk-serial {display: flex;flex-direction: column;align-items: center;background-color: white;padding-right: 0.2em;padding-left: 0.2em;position: relative;}#sk-container-id-2 div.sk-item {position: relative;z-index: 1;}#sk-container-id-2 div.sk-parallel {display: flex;align-items: stretch;justify-content: center;background-color: white;position: relative;}#sk-container-id-2 div.sk-item::before, #sk-container-id-2 div.sk-parallel-item::before {content: \"\";position: absolute;border-left: 1px solid gray;box-sizing: border-box;top: 0;bottom: 0;left: 50%;z-index: -1;}#sk-container-id-2 div.sk-parallel-item {display: flex;flex-direction: column;z-index: 1;position: relative;background-color: white;}#sk-container-id-2 div.sk-parallel-item:first-child::after {align-self: flex-end;width: 50%;}#sk-container-id-2 div.sk-parallel-item:last-child::after {align-self: flex-start;width: 50%;}#sk-container-id-2 div.sk-parallel-item:only-child::after {width: 0;}#sk-container-id-2 div.sk-dashed-wrapped {border: 1px dashed gray;margin: 0 0.4em 0.5em 0.4em;box-sizing: border-box;padding-bottom: 0.4em;background-color: white;}#sk-container-id-2 div.sk-label label {font-family: monospace;font-weight: bold;display: inline-block;line-height: 1.2em;}#sk-container-id-2 div.sk-label-container {text-align: center;}#sk-container-id-2 div.sk-container {/* jupyter's `normalize.less` sets `[hidden] { display: none; }` but bootstrap.min.css set `[hidden] { display: none !important; }` so we also need the `!important` here to be able to override the default hidden behavior on the sphinx rendered scikit-learn.org. See: https://github.com/scikit-learn/scikit-learn/issues/21755 */display: inline-block !important;position: relative;}#sk-container-id-2 div.sk-text-repr-fallback {display: none;}</style><div id=\"sk-container-id-2\" class=\"sk-top-container\"><div class=\"sk-text-repr-fallback\"><pre>LinearRegression()</pre><b>In a Jupyter environment, please rerun this cell to show the HTML representation or trust the notebook. <br />On GitHub, the HTML representation is unable to render, please try loading this page with nbviewer.org.</b></div><div class=\"sk-container\" hidden><div class=\"sk-item\"><div class=\"sk-estimator sk-toggleable\"><input class=\"sk-toggleable__control sk-hidden--visually\" id=\"sk-estimator-id-2\" type=\"checkbox\" checked><label for=\"sk-estimator-id-2\" class=\"sk-toggleable__label sk-toggleable__label-arrow\">LinearRegression</label><div class=\"sk-toggleable__content\"><pre>LinearRegression()</pre></div></div></div></div></div>"
            ]
          },
          "metadata": {},
          "execution_count": 64
        }
      ]
    },
    {
      "cell_type": "code",
      "source": [
        "#Predict for Inflation\n",
        "y_pred_lr = lr.predict(x_test)"
      ],
      "metadata": {
        "id": "CAHyEZD6N4K8",
        "colab": {
          "base_uri": "https://localhost:8080/"
        },
        "outputId": "3945a856-2c9a-4cd4-a260-fc5626aa1a88"
      },
      "execution_count": 65,
      "outputs": [
        {
          "output_type": "stream",
          "name": "stderr",
          "text": [
            "/usr/local/lib/python3.10/dist-packages/sklearn/base.py:432: UserWarning: X has feature names, but LinearRegression was fitted without feature names\n",
            "  warnings.warn(\n"
          ]
        }
      ]
    },
    {
      "cell_type": "code",
      "source": [
        "print(\"Predicted Values from LinearRegression\",y_pred_lr)\n",
        "print(\"Original\",yy_train)"
      ],
      "metadata": {
        "id": "C7End7pjhCvC",
        "colab": {
          "base_uri": "https://localhost:8080/"
        },
        "outputId": "e2ce9fec-d497-405b-a779-fd0fadac253f"
      },
      "execution_count": 66,
      "outputs": [
        {
          "output_type": "stream",
          "name": "stdout",
          "text": [
            "Predicted Values from LinearRegression [10.      7.5     2.8125  6.25    5.3125  2.75  ]\n",
            "Original [27.5 24.6 23.  17.5 16. ]\n"
          ]
        }
      ]
    }
  ]
}